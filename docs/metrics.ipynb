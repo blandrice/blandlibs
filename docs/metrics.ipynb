{
 "cells": [
  {
   "cell_type": "code",
   "execution_count": 1,
   "metadata": {},
   "outputs": [
    {
     "name": "stdout",
     "output_type": "stream",
     "text": [
      "{'script_name': 'admin', 'author': 'KG07', 'link': 'https://github.com/KG07/admin_system_version1', 'client': 'yes', 'server': '', 'other': '', 'description': 'Admin system code: for map makers who doesn’t know or know a bit of scripting to hire some moderators into your map', 'tags': ['admin'], 'category': 'admin', 'path': 'https://github.com/blandrice/blandlibs/tree/master/libs/admin'}\n",
      "{'script_name': 'admin', 'author': 'KG07', 'link': 'https://github.com/KG07/admin_system_version1', 'client': '', 'server': 'yes', 'other': '', 'description': '', 'tags': ['admin'], 'category': 'admin', 'path': 'https://github.com/blandrice/blandlibs/tree/master/libs/admin'}\n",
      "skipping C:\\Users\\Justi\\Documents\\GitHub\\blandlibs\\libs\\custommovement\\doublejump\\djump_nodes\\DJcfg_nodes_h.krnk\n",
      "{'script_name': 'djump_node', 'author': 'blandrice', 'link': '', 'client': '', 'server': '', 'other': 'yes', 'description': '', 'tags': ['custommovement', 'doublejump', 'djump_nodes'], 'category': 'custommovement', 'path': 'https://github.com/blandrice/blandlibs/tree/master/libs/custommovement/doublejump/djump_nodes'}\n",
      "{'script_name': 'djump_node', 'author': 'blandrice', 'link': '', 'client': 'yes', 'server': '', 'other': '', 'description': 'Doublejump with crystals', 'tags': ['custommovement', 'doublejump', 'djump_nodes'], 'category': 'custommovement', 'path': 'https://github.com/blandrice/blandlibs/tree/master/libs/custommovement/doublejump/djump_nodes'}\n",
      "{'script_name': 'djump_node', 'author': 'blandrice', 'link': '', 'client': '', 'server': 'yes', 'other': '', 'description': 'Doublejump, but with using path nodes to collect a crystal for a double-jump', 'tags': ['custommovement', 'doublejump', 'djump_nodes'], 'category': 'custommovement', 'path': 'https://github.com/blandrice/blandlibs/tree/master/libs/custommovement/doublejump/djump_nodes'}\n",
      "{'script_name': 'djump_old', 'author': 'blandrice', 'link': '', 'client': 'yes', 'server': '', 'other': '', 'description': 'old doublejump by blandrice before registersync was introduced.', 'tags': ['custommovement', 'doublejump', 'djump_old'], 'category': 'custommovement', 'path': 'https://github.com/blandrice/blandlibs/tree/master/libs/custommovement/doublejump/djump_old'}\n",
      "{'script_name': 'djump_old', 'author': 'blandrice', 'link': '', 'client': '', 'server': 'yes', 'other': '', 'description': '', 'tags': ['custommovement', 'doublejump', 'djump_old'], 'category': 'custommovement', 'path': 'https://github.com/blandrice/blandlibs/tree/master/libs/custommovement/doublejump/djump_old'}\n",
      "skipping C:\\Users\\Justi\\Documents\\GitHub\\blandlibs\\libs\\custommovement\\doublejump\\djump_old\\old_DJ_head_h.krnk\n",
      "skipping C:\\Users\\Justi\\Documents\\GitHub\\blandlibs\\libs\\custommovement\\doublejump\\djump_registersync\\DJconfig_h.krnk\n",
      "{'script_name': 'djump_registersync', 'author': 'blandrice', 'link': '', 'client': '', 'server': '', 'other': 'yes', 'description': 'double-jump using registersync feature', 'tags': ['custommovement', 'doublejump', 'djump_registersync'], 'category': 'custommovement', 'path': 'https://github.com/blandrice/blandlibs/tree/master/libs/custommovement/doublejump/djump_registersync'}\n",
      "{'script_name': 'djump_registersync', 'author': 'blandrice', 'link': '', 'client': 'yes', 'server': '', 'other': '', 'description': 'double-jump using registersync feature', 'tags': ['custommovement', 'doublejump', 'djump_registersync'], 'category': 'custommovement', 'path': 'https://github.com/blandrice/blandlibs/tree/master/libs/custommovement/doublejump/djump_registersync'}\n",
      "{'script_name': 'djump_registersync', 'author': 'blandrice', 'link': '', 'client': '', 'server': 'yes', 'other': '', 'description': 'double-jump using registersync feature', 'tags': ['custommovement', 'doublejump', 'djump_registersync'], 'category': 'custommovement', 'path': 'https://github.com/blandrice/blandlibs/tree/master/libs/custommovement/doublejump/djump_registersync'}\n",
      "{'script_name': 'customweapons', 'author': 'DQ Swat', 'link': 'https://discord.com/channels/859947586005368862/862113777946984459/923687262724685887', 'client': '', 'server': '', 'other': 'yes', 'description': 'custom weapon script.', 'tags': ['customweapon'], 'category': 'customweapon', 'path': 'https://github.com/blandrice/blandlibs/tree/master/libs/customweapon'}\n",
      "{'script_name': 'ranksmainmap', 'author': 'blandrice', 'link': 'https://github.com/blandrice/krunkerClansPlus', 'client': 'yes', 'server': '', 'other': '', 'description': 'Calculate camera shift between 1st person to 3rd person staring at a subject', 'tags': ['database', 'clansrank'], 'category': 'database', 'path': 'https://github.com/blandrice/blandlibs/tree/master/libs/database/clansrank'}\n",
      "{'script_name': 'ranksmainmap', 'author': 'blandrice', 'link': 'https://github.com/blandrice/krunkerClansPlus', 'client': '', 'server': 'yes', 'other': '', 'description': 'This is a shareable script to display popular Krunker Commmunity Clans Ranks in-game.', 'tags': ['database', 'clansrank'], 'category': 'database', 'path': 'https://github.com/blandrice/blandlibs/tree/master/libs/database/clansrank'}\n",
      "{'script_name': 'ranks', 'author': 'blandrice', 'link': 'https://github.com/blandrice/krunkerClansPlus', 'client': 'yes', 'server': '', 'other': '', 'description': 'Create a map in Krunker and copy the client & server scripts from this github to your new map.', 'tags': ['database', 'clansrank'], 'category': 'database', 'path': 'https://github.com/blandrice/blandlibs/tree/master/libs/database/clansrank'}\n",
      "{'script_name': 'ranks', 'author': '', 'link': '', 'client': '', 'server': 'yes', 'other': '', 'description': '', 'tags': ['database', 'clansrank'], 'category': 'database', 'path': 'https://github.com/blandrice/blandlibs/tree/master/libs/database/clansrank'}\n",
      "{'script_name': 'drawtriangle', 'author': 'Bub Lap', 'link': 'https://discord.com/channels/484192043833491487/575245801744498689/913314916637749258', 'client': '', 'server': '', 'other': 'yes', 'description': 'Basic drawTriangle action (KrunkScript example)', 'tags': ['examples', 'drawtriangle'], 'category': 'examples', 'path': 'https://github.com/blandrice/blandlibs/tree/master/libs/examples/drawtriangle'}\n",
      "{'script_name': 'checkpoint', 'author': 'Sakurasou', 'link': 'https://discord.com/channels/484192043833491487/575245801744498689/1045330962277486652', 'client': '', 'server': '', 'other': 'yes', 'description': 'Changes the names of the Checkpoints on the Speedrun Timer in the bottom right (Point 1, Point 2, ...)', 'tags': ['gameutil', 'checkpoint'], 'category': 'gameutil', 'path': 'https://github.com/blandrice/blandlibs/tree/master/libs/gameutil/checkpoint'}\n",
      "skipping C:\\Users\\Justi\\Documents\\GitHub\\blandlibs\\libs\\gameutil\\ECS\\components\\aibehavior\\ECS_aibhvr.krnk\n",
      "skipping C:\\Users\\Justi\\Documents\\GitHub\\blandlibs\\libs\\gameutil\\ECS\\components\\color\\ECS_color.krnk\n",
      "skipping C:\\Users\\Justi\\Documents\\GitHub\\blandlibs\\libs\\gameutil\\ECS\\components\\hitbox\\ECS_hitbox_s.krnk\n",
      "skipping C:\\Users\\Justi\\Documents\\GitHub\\blandlibs\\libs\\gameutil\\ECS\\components\\lifetime\\ECS_lifetime_s.krnk\n",
      "skipping C:\\Users\\Justi\\Documents\\GitHub\\blandlibs\\libs\\gameutil\\ECS\\components\\movement\\bounce\\ECS_bounce_s.krnk\n",
      "skipping C:\\Users\\Justi\\Documents\\GitHub\\blandlibs\\libs\\gameutil\\ECS\\components\\movement\\floating\\ECS_floating_s.krnk\n",
      "skipping C:\\Users\\Justi\\Documents\\GitHub\\blandlibs\\libs\\gameutil\\ECS\\components\\movement\\gravity\\ECS_grav_s.krnk\n",
      "skipping C:\\Users\\Justi\\Documents\\GitHub\\blandlibs\\libs\\gameutil\\ECS\\components\\movement\\physics\\ECS_physics_s.krnk\n",
      "skipping C:\\Users\\Justi\\Documents\\GitHub\\blandlibs\\libs\\gameutil\\ECS\\components\\movement\\shake\\ECS_shake_s.krnk\n",
      "skipping C:\\Users\\Justi\\Documents\\GitHub\\blandlibs\\libs\\gameutil\\ECS\\entities\\item\\ECS_item_s.krnk\n",
      "skipping C:\\Users\\Justi\\Documents\\GitHub\\blandlibs\\libs\\gameutil\\ECS\\entities\\platform\\ECS_platform_s.krnk\n",
      "{'script_name': 'ecs', 'author': 'blandrice', 'link': '', 'client': 'yes', 'server': '', 'other': '', 'description': 'Entity Component System', 'tags': ['gameutil', 'ECS', 'system'], 'category': 'gameutil', 'path': 'https://github.com/blandrice/blandlibs/tree/master/libs/gameutil/ECS/system'}\n",
      "skipping C:\\Users\\Justi\\Documents\\GitHub\\blandlibs\\libs\\gameutil\\ECS\\system\\ecs_h.krnk\n",
      "{'script_name': 'ecs', 'author': 'blandrice', 'link': '', 'client': '', 'server': 'yes', 'other': '', 'description': '', 'tags': ['gameutil', 'ECS', 'system'], 'category': 'gameutil', 'path': 'https://github.com/blandrice/blandlibs/tree/master/libs/gameutil/ECS/system'}\n",
      "{'script_name': 'gamestart', 'author': 'blandrice', 'link': '', 'client': 'yes', 'server': '', 'other': '', 'description': 'Detect game start in a map with a countdown.', 'tags': ['gameutil', 'gamestart'], 'category': 'gameutil', 'path': 'https://github.com/blandrice/blandlibs/tree/master/libs/gameutil/gamestart'}\n",
      "{'script_name': 'gamestart', 'author': 'blandrice', 'link': '', 'client': '', 'server': 'yes', 'other': '', 'description': '', 'tags': ['gameutil', 'gamestart'], 'category': 'gameutil', 'path': 'https://github.com/blandrice/blandlibs/tree/master/libs/gameutil/gamestart'}\n",
      "{'script_name': 'infected', 'author': 'DukeV', 'link': 'https://discord.com/channels/859947586005368862/862113777946984459/909435501298204713', 'client': '', 'server': 'yes', 'other': '', 'description': 'a way to find out whether a player is infected or not', 'tags': ['gameutil', 'infected'], 'category': 'gameutil', 'path': 'https://github.com/blandrice/blandlibs/tree/master/libs/gameutil/infected'}\n",
      "{'script_name': 'plrutil', 'author': 'blandrice', 'link': '', 'client': '', 'server': '', 'other': 'yes', 'description': '', 'tags': ['gameutil', 'plrutil'], 'category': 'gameutil', 'path': 'https://github.com/blandrice/blandlibs/tree/master/libs/gameutil/plrutil'}\n",
      "{'script_name': 'plrutil', 'author': 'blandrice', 'link': '', 'client': 'yes', 'server': '', 'other': '', 'description': 'workaround to check how many players are spawned in', 'tags': ['gameutil', 'plrutil'], 'category': 'gameutil', 'path': 'https://github.com/blandrice/blandlibs/tree/master/libs/gameutil/plrutil'}\n",
      "{'script_name': 'plrutil', 'author': 'blandrice', 'link': '', 'client': '', 'server': 'yes', 'other': '', 'description': '', 'tags': ['gameutil', 'plrutil'], 'category': 'gameutil', 'path': 'https://github.com/blandrice/blandlibs/tree/master/libs/gameutil/plrutil'}\n",
      "{'script_name': 'spectator', 'author': 'SlxTnT', 'link': 'https://discord.com/channels/859947586005368862/862113777946984459/900998093300969473', 'client': '', 'server': 'yes', 'other': '', 'description': 'My attempt at server side spectator checks. Can check the value with player.properties.isSpectator', 'tags': ['gameutil', 'spectator'], 'category': 'gameutil', 'path': 'https://github.com/blandrice/blandlibs/tree/master/libs/gameutil/spectator'}\n",
      "skipping C:\\Users\\Justi\\Documents\\GitHub\\blandlibs\\libs\\gameutil\\weaponinfo\\wi_h.krnk\n",
      "{'script_name': 'wpninfo', 'author': 'blandrice', 'link': '', 'client': 'yes', 'server': '', 'other': '', 'description': \"adds additional CLASS's PRIMARY weapon info to player object.\", 'tags': ['gameutil', 'weaponinfo'], 'category': 'gameutil', 'path': 'https://github.com/blandrice/blandlibs/tree/master/libs/gameutil/weaponinfo'}\n",
      "{'script_name': 'b91', 'author': 'SlxTnT', 'link': '', 'client': '', 'server': '', 'other': 'yes', 'description': 'Base91 decoding converted from https://github.com/KvanTTT/BaseNcoding', 'tags': ['mathutils', 'b91encoding'], 'category': 'mathutils', 'path': 'https://github.com/blandrice/blandlibs/tree/master/libs/mathutils/b91encoding'}\n",
      "{'script_name': 'gpt_vec', 'author': 'ChatGPT', 'link': '', 'client': '', 'server': '', 'other': 'yes', 'description': 'ChatGPT test on generating vector functions', 'tags': ['mathutils', 'ChatGPT'], 'category': 'mathutils', 'path': 'https://github.com/blandrice/blandlibs/tree/master/libs/mathutils/ChatGPT'}\n",
      "{'script_name': 'dtypes', 'author': 'blandrice', 'link': '', 'client': '', 'server': '', 'other': 'yes', 'description': 'custom float data types--> binary representation calculations.', 'tags': ['mathutils', 'dtypes'], 'category': 'mathutils', 'path': 'https://github.com/blandrice/blandlibs/tree/master/libs/mathutils/dtypes'}\n",
      "{'script_name': 'prng', 'author': 'Sakurasou', 'link': 'https://discord.com/channels/859947586005368862/862113777946984459/988841369529376839', 'client': '', 'server': '', 'other': 'yes', 'description': 'Custom Seed PRNG (Pseudorandom Number Generator) using SFC32 (Simple Fast Counter) and MurmurHash3', 'tags': ['mathutils', 'PRNG'], 'category': 'mathutils', 'path': 'https://github.com/blandrice/blandlibs/tree/master/libs/mathutils/PRNG'}\n",
      "{'script_name': 'vec', 'author': 'blandrice', 'link': '', 'client': '', 'server': '', 'other': 'yes', 'description': \"blandrice's object-based vector math\", 'tags': ['mathutils', 'vectors'], 'category': 'mathutils', 'path': 'https://github.com/blandrice/blandlibs/tree/master/libs/mathutils/vectors'}\n",
      "{'script_name': 'vec_prof', 'author': 'ProfNoob', 'link': '', 'client': '', 'server': '', 'other': 'yes', 'description': \"Prof's array-based vector library\", 'tags': ['mathutils', 'vectors'], 'category': 'mathutils', 'path': 'https://github.com/blandrice/blandlibs/tree/master/libs/mathutils/vectors'}\n",
      "{'script_name': 'plrbhvr', 'author': 'blandrice', 'link': '', 'client': 'yes', 'server': '', 'other': '', 'description': 'disable server sync + behavior for custom movement', 'tags': ['network', 'plrbehavior'], 'category': 'network', 'path': 'https://github.com/blandrice/blandlibs/tree/master/libs/network/plrbehavior'}\n",
      "{'script_name': 'plrbhvr', 'author': 'blandrice', 'link': '', 'client': '', 'server': 'yes', 'other': '', 'description': '', 'tags': ['network', 'plrbehavior'], 'category': 'network', 'path': 'https://github.com/blandrice/blandlibs/tree/master/libs/network/plrbehavior'}\n",
      "{'script_name': 'syncobjs', 'author': 'blandrice', 'link': '', 'client': 'yes', 'server': '', 'other': '', 'description': 'Custom Server object syncing.', 'tags': ['network', 'syncobjs'], 'category': 'network', 'path': 'https://github.com/blandrice/blandlibs/tree/master/libs/network/syncobjs'}\n",
      "skipping C:\\Users\\Justi\\Documents\\GitHub\\blandlibs\\libs\\network\\syncobjs\\syncobjs_h.krnk\n",
      "{'script_name': 'syncobjs', 'author': 'blandrice', 'link': '', 'client': '', 'server': 'yes', 'other': '', 'description': '', 'tags': ['network', 'syncobjs'], 'category': 'network', 'path': 'https://github.com/blandrice/blandlibs/tree/master/libs/network/syncobjs'}\n",
      "{'script_name': 'camsway', 'author': 'creepycats', 'link': 'https://discord.com/channels/484192043833491487/575245801744498689/1055269916330168341', 'client': 'yes', 'server': '', 'other': '', 'description': 'sway camera when moving left and right', 'tags': ['overlay', 'cameraSway'], 'category': 'overlay', 'path': 'https://github.com/blandrice/blandlibs/tree/master/libs/overlay/cameraSway'}\n",
      "{'script_name': 'gamescore', 'author': 'blandrice', 'link': '', 'client': 'yes', 'server': '', 'other': '', 'description': 'show points incrementing UI through krunkscript', 'tags': ['overlay', 'customgamescoreUI'], 'category': 'overlay', 'path': 'https://github.com/blandrice/blandlibs/tree/master/libs/overlay/customgamescoreUI'}\n",
      "{'script_name': 'fnitecam', 'author': 'creepycats', 'link': 'https://discord.com/channels/484192043833491487/575245801744498689/1001284132074168341', 'client': '', 'server': '', 'other': 'yes', 'description': 'This script was created for the Krunker Map Remake of Five Nights at Freddys. It has been modified for public use. It has been attached as a map save to provide the user with a demonstration of how it works.', 'tags': ['overlay', 'fiveNightsCamera'], 'category': 'overlay', 'path': 'https://github.com/blandrice/blandlibs/tree/master/libs/overlay/fiveNightsCamera'}\n",
      "{'script_name': 'kbobub_default', 'author': 'Bub Lap', 'link': '', 'client': '', 'server': '', 'other': 'yes', 'description': 'keyboard stuff much like L-U-C-A’s but parameterizable', 'tags': ['overlay', 'keyboardoverlay', 'bub'], 'category': 'overlay', 'path': 'https://github.com/blandrice/blandlibs/tree/master/libs/overlay/keyboardoverlay/bub'}\n",
      "{'script_name': 'kbobub_green', 'author': 'Bub Lap', 'link': '', 'client': '', 'server': '', 'other': 'yes', 'description': '', 'tags': ['overlay', 'keyboardoverlay', 'bub'], 'category': 'overlay', 'path': 'https://github.com/blandrice/blandlibs/tree/master/libs/overlay/keyboardoverlay/bub'}\n",
      "{'script_name': 'kbo_luca', 'author': 'L-U-C-A', 'link': 'https://discord.com/channels/484192043833491487/575245801744498689/965934487169028116', 'client': '', 'server': '', 'other': 'yes', 'description': 'Basic HTML Div-based keyboard', 'tags': ['overlay', 'keyboardoverlay', 'luca'], 'category': 'overlay', 'path': 'https://github.com/blandrice/blandlibs/tree/master/libs/overlay/keyboardoverlay/luca'}\n",
      "{'script_name': 'radar', 'author': 'Andrii', 'link': 'https://discord.com/channels/859947586005368862/862113777946984459/930137214841671750', 'client': 'yes', 'server': '', 'other': '', 'description': 'Player radar overlay feature', 'tags': ['overlay', 'radar'], 'category': 'overlay', 'path': 'https://github.com/blandrice/blandlibs/tree/master/libs/overlay/radar'}\n",
      "{'script_name': 'timer', 'author': 'blandrice', 'link': '', 'client': 'yes', 'server': '', 'other': '', 'description': 'display a timer (total time given by server)', 'tags': ['overlay', 'timer'], 'category': 'overlay', 'path': 'https://github.com/blandrice/blandlibs/tree/master/libs/overlay/timer'}\n",
      "{'script_name': 'timer', 'author': 'blandrice', 'link': '', 'client': '', 'server': 'yes', 'other': '', 'description': 'Timer utility (syncs Client to Server)', 'tags': ['overlay', 'timer'], 'category': 'overlay', 'path': 'https://github.com/blandrice/blandlibs/tree/master/libs/overlay/timer'}\n",
      "{'script_name': 'aabb', 'author': 'KG07', 'link': 'https://discord.com/channels/859947586005368862/862113777946984459/1020742895092891698', 'client': '', 'server': '', 'other': 'yes', 'description': 'AABB (axis-aligned bounding box-box) collision + resolution', 'tags': ['physics', 'collisions'], 'category': 'physics', 'path': 'https://github.com/blandrice/blandlibs/tree/master/libs/physics/collisions'}\n",
      "{'script_name': 'raybox', 'author': 'blandrice', 'link': '', 'client': '', 'server': '', 'other': 'yes', 'description': 'Ray-box intersections in Krunker.', 'tags': ['physics', 'collisions'], 'category': 'physics', 'path': 'https://github.com/blandrice/blandlibs/tree/master/libs/physics/collisions'}\n",
      "{'script_name': 'rotbox', 'author': 'blandrice', 'link': '', 'client': '', 'server': '', 'other': 'yes', 'description': 'rotated bounding box collision', 'tags': ['physics', 'collisions'], 'category': 'physics', 'path': 'https://github.com/blandrice/blandlibs/tree/master/libs/physics/collisions'}\n",
      "{'script_name': 'cinegato', 'author': 'creepycats', 'link': 'https://discord.com/channels/484192043833491487/575245801744498689/967883995377442836', 'client': 'yes', 'server': '', 'other': '', 'description': 'Gato Cutscene Handler', 'tags': ['scene', 'cutscene'], 'category': 'scene', 'path': 'https://github.com/blandrice/blandlibs/tree/master/libs/scene/cutscene'}\n",
      "{'script_name': 'cinegato', 'author': 'creepycats', 'link': 'https://discord.com/channels/484192043833491487/575245801744498689/967883995377442836', 'client': '', 'server': 'yes', 'other': '', 'description': 'Gato Cutscene Handler', 'tags': ['scene', 'cutscene'], 'category': 'scene', 'path': 'https://github.com/blandrice/blandlibs/tree/master/libs/scene/cutscene'}\n",
      "{'script_name': 'fade', 'author': 'blandrice', 'link': 'https://discord.com/channels/484192043833491487/575245801744498689/1098317407061299261', 'client': 'yes', 'server': '', 'other': '', 'description': 'screen fade in/out using triggers https://streamable.com/x5oi68', 'tags': ['scene', 'fade'], 'category': 'scene', 'path': 'https://github.com/blandrice/blandlibs/tree/master/libs/scene/fade'}\n",
      "{'script_name': 'fade', 'author': 'blandrice', 'link': '', 'client': '', 'server': 'yes', 'other': '', 'description': '', 'tags': ['scene', 'fade'], 'category': 'scene', 'path': 'https://github.com/blandrice/blandlibs/tree/master/libs/scene/fade'}\n",
      "{'script_name': 'gpt_strutils', 'author': 'ChatGPT', 'link': '', 'client': '', 'server': '', 'other': 'yes', 'description': 'ChatGPT test on generating string utilities', 'tags': ['utils', 'ChatGPT'], 'category': 'utils', 'path': 'https://github.com/blandrice/blandlibs/tree/master/libs/utils/ChatGPT'}\n",
      "{'script_name': 'g', 'author': 'blandrice', 'link': '', 'client': '', 'server': '', 'other': 'yes', 'description': 'some global vars that other libs can reference to reduce calls', 'tags': ['utils', 'global'], 'category': 'utils', 'path': 'https://github.com/blandrice/blandlibs/tree/master/libs/utils/global'}\n",
      "{'script_name': 'listutil', 'author': 'blandrice', 'link': '', 'client': '', 'server': '', 'other': 'yes', 'description': 'Additional string utilities', 'tags': ['utils', 'lists'], 'category': 'utils', 'path': 'https://github.com/blandrice/blandlibs/tree/master/libs/utils/lists'}\n",
      "{'script_name': 'strutils', 'author': 'ProfNoob', 'link': 'https://discord.com/channels/859947586005368862/862113777946984459/957710191590268929', 'client': '', 'server': '', 'other': 'yes', 'description': 'Additional String utilities', 'tags': ['utils', 'strutil'], 'category': 'utils', 'path': 'https://github.com/blandrice/blandlibs/tree/master/libs/utils/strutil'}\n"
     ]
    }
   ],
   "source": [
    "%run -i table.py"
   ]
  },
  {
   "cell_type": "code",
   "execution_count": 2,
   "metadata": {},
   "outputs": [
    {
     "data": {
      "text/html": [
       "<div>\n",
       "<style scoped>\n",
       "    .dataframe tbody tr th:only-of-type {\n",
       "        vertical-align: middle;\n",
       "    }\n",
       "\n",
       "    .dataframe tbody tr th {\n",
       "        vertical-align: top;\n",
       "    }\n",
       "\n",
       "    .dataframe thead th {\n",
       "        text-align: right;\n",
       "    }\n",
       "</style>\n",
       "<table border=\"1\" class=\"dataframe\">\n",
       "  <thead>\n",
       "    <tr style=\"text-align: right;\">\n",
       "      <th></th>\n",
       "      <th>Unnamed: 0</th>\n",
       "      <th>script_name</th>\n",
       "      <th>author</th>\n",
       "      <th>link</th>\n",
       "      <th>client</th>\n",
       "      <th>server</th>\n",
       "      <th>other</th>\n",
       "      <th>description</th>\n",
       "      <th>tags</th>\n",
       "      <th>category</th>\n",
       "      <th>path</th>\n",
       "    </tr>\n",
       "  </thead>\n",
       "  <tbody>\n",
       "    <tr>\n",
       "      <th>0</th>\n",
       "      <td>0</td>\n",
       "      <td>admin</td>\n",
       "      <td>KG07</td>\n",
       "      <td>https://github.com/KG07/admin_system_version1</td>\n",
       "      <td>yes</td>\n",
       "      <td>NaN</td>\n",
       "      <td>NaN</td>\n",
       "      <td>Admin system code: for map makers who doesn’t ...</td>\n",
       "      <td>['admin']</td>\n",
       "      <td>admin</td>\n",
       "      <td>https://github.com/blandrice/blandlibs/tree/ma...</td>\n",
       "    </tr>\n",
       "    <tr>\n",
       "      <th>1</th>\n",
       "      <td>1</td>\n",
       "      <td>admin</td>\n",
       "      <td>KG07</td>\n",
       "      <td>https://github.com/KG07/admin_system_version1</td>\n",
       "      <td>NaN</td>\n",
       "      <td>yes</td>\n",
       "      <td>NaN</td>\n",
       "      <td>NaN</td>\n",
       "      <td>['admin']</td>\n",
       "      <td>admin</td>\n",
       "      <td>https://github.com/blandrice/blandlibs/tree/ma...</td>\n",
       "    </tr>\n",
       "    <tr>\n",
       "      <th>2</th>\n",
       "      <td>2</td>\n",
       "      <td>djump_node</td>\n",
       "      <td>blandrice</td>\n",
       "      <td>NaN</td>\n",
       "      <td>NaN</td>\n",
       "      <td>NaN</td>\n",
       "      <td>yes</td>\n",
       "      <td>NaN</td>\n",
       "      <td>['custommovement', 'doublejump', 'djump_nodes']</td>\n",
       "      <td>custommovement</td>\n",
       "      <td>https://github.com/blandrice/blandlibs/tree/ma...</td>\n",
       "    </tr>\n",
       "    <tr>\n",
       "      <th>3</th>\n",
       "      <td>3</td>\n",
       "      <td>djump_node</td>\n",
       "      <td>blandrice</td>\n",
       "      <td>NaN</td>\n",
       "      <td>yes</td>\n",
       "      <td>NaN</td>\n",
       "      <td>NaN</td>\n",
       "      <td>Doublejump with crystals</td>\n",
       "      <td>['custommovement', 'doublejump', 'djump_nodes']</td>\n",
       "      <td>custommovement</td>\n",
       "      <td>https://github.com/blandrice/blandlibs/tree/ma...</td>\n",
       "    </tr>\n",
       "    <tr>\n",
       "      <th>4</th>\n",
       "      <td>4</td>\n",
       "      <td>djump_node</td>\n",
       "      <td>blandrice</td>\n",
       "      <td>NaN</td>\n",
       "      <td>NaN</td>\n",
       "      <td>yes</td>\n",
       "      <td>NaN</td>\n",
       "      <td>Doublejump, but with using path nodes to colle...</td>\n",
       "      <td>['custommovement', 'doublejump', 'djump_nodes']</td>\n",
       "      <td>custommovement</td>\n",
       "      <td>https://github.com/blandrice/blandlibs/tree/ma...</td>\n",
       "    </tr>\n",
       "  </tbody>\n",
       "</table>\n",
       "</div>"
      ],
      "text/plain": [
       "   Unnamed: 0 script_name     author  \\\n",
       "0           0       admin       KG07   \n",
       "1           1       admin       KG07   \n",
       "2           2  djump_node  blandrice   \n",
       "3           3  djump_node  blandrice   \n",
       "4           4  djump_node  blandrice   \n",
       "\n",
       "                                            link client server other  \\\n",
       "0  https://github.com/KG07/admin_system_version1    yes    NaN   NaN   \n",
       "1  https://github.com/KG07/admin_system_version1    NaN    yes   NaN   \n",
       "2                                            NaN    NaN    NaN   yes   \n",
       "3                                            NaN    yes    NaN   NaN   \n",
       "4                                            NaN    NaN    yes   NaN   \n",
       "\n",
       "                                         description  \\\n",
       "0  Admin system code: for map makers who doesn’t ...   \n",
       "1                                                NaN   \n",
       "2                                                NaN   \n",
       "3                           Doublejump with crystals   \n",
       "4  Doublejump, but with using path nodes to colle...   \n",
       "\n",
       "                                              tags        category  \\\n",
       "0                                        ['admin']           admin   \n",
       "1                                        ['admin']           admin   \n",
       "2  ['custommovement', 'doublejump', 'djump_nodes']  custommovement   \n",
       "3  ['custommovement', 'doublejump', 'djump_nodes']  custommovement   \n",
       "4  ['custommovement', 'doublejump', 'djump_nodes']  custommovement   \n",
       "\n",
       "                                                path  \n",
       "0  https://github.com/blandrice/blandlibs/tree/ma...  \n",
       "1  https://github.com/blandrice/blandlibs/tree/ma...  \n",
       "2  https://github.com/blandrice/blandlibs/tree/ma...  \n",
       "3  https://github.com/blandrice/blandlibs/tree/ma...  \n",
       "4  https://github.com/blandrice/blandlibs/tree/ma...  "
      ]
     },
     "execution_count": 2,
     "metadata": {},
     "output_type": "execute_result"
    }
   ],
   "source": [
    "import pandas as pd\n",
    "import plotly.express as px\n",
    "df = pd.read_csv(\"table.csv\")\n",
    "df.head()"
   ]
  },
  {
   "cell_type": "code",
   "execution_count": 3,
   "metadata": {},
   "outputs": [],
   "source": [
    "# separate client/server/other df's to merge\n",
    "df_client = df[df['client']=='yes']\n",
    "df_server = df[df['server']=='yes']\n",
    "df_other = df[df['other']==\"yes\"]"
   ]
  },
  {
   "cell_type": "code",
   "execution_count": 4,
   "metadata": {},
   "outputs": [
    {
     "name": "stderr",
     "output_type": "stream",
     "text": [
      "c:\\Users\\Justi\\anaconda3\\envs\\python38\\lib\\site-packages\\pandas\\core\\frame.py:3607: SettingWithCopyWarning: \n",
      "A value is trying to be set on a copy of a slice from a DataFrame.\n",
      "Try using .loc[row_indexer,col_indexer] = value instead\n",
      "\n",
      "See the caveats in the documentation: https://pandas.pydata.org/pandas-docs/stable/user_guide/indexing.html#returning-a-view-versus-a-copy\n",
      "  self._set_item(key, value)\n"
     ]
    },
    {
     "data": {
      "text/html": [
       "<div>\n",
       "<style scoped>\n",
       "    .dataframe tbody tr th:only-of-type {\n",
       "        vertical-align: middle;\n",
       "    }\n",
       "\n",
       "    .dataframe tbody tr th {\n",
       "        vertical-align: top;\n",
       "    }\n",
       "\n",
       "    .dataframe thead th {\n",
       "        text-align: right;\n",
       "    }\n",
       "</style>\n",
       "<table border=\"1\" class=\"dataframe\">\n",
       "  <thead>\n",
       "    <tr style=\"text-align: right;\">\n",
       "      <th></th>\n",
       "      <th>category</th>\n",
       "      <th>script_name</th>\n",
       "      <th>author</th>\n",
       "      <th>client</th>\n",
       "      <th>server</th>\n",
       "      <th>other</th>\n",
       "      <th>description</th>\n",
       "      <th>link</th>\n",
       "      <th>path</th>\n",
       "      <th>tags</th>\n",
       "    </tr>\n",
       "  </thead>\n",
       "  <tbody>\n",
       "    <tr>\n",
       "      <th>0</th>\n",
       "      <td>admin</td>\n",
       "      <td>admin</td>\n",
       "      <td>KG07</td>\n",
       "      <td>yes</td>\n",
       "      <td>yes</td>\n",
       "      <td></td>\n",
       "      <td>Admin system code: for map makers who doesn’t ...</td>\n",
       "      <td>https://github.com/KG07/admin_system_version1</td>\n",
       "      <td>https://github.com/blandrice/blandlibs/tree/ma...</td>\n",
       "      <td>['admin']</td>\n",
       "    </tr>\n",
       "    <tr>\n",
       "      <th>1</th>\n",
       "      <td>custommovement</td>\n",
       "      <td>djump_node</td>\n",
       "      <td>blandrice</td>\n",
       "      <td>yes</td>\n",
       "      <td>yes</td>\n",
       "      <td>yes</td>\n",
       "      <td>Doublejump, but with using path nodes to colle...</td>\n",
       "      <td></td>\n",
       "      <td>https://github.com/blandrice/blandlibs/tree/ma...</td>\n",
       "      <td>['custommovement',  'doublejump',  'djump_nodes']</td>\n",
       "    </tr>\n",
       "    <tr>\n",
       "      <th>2</th>\n",
       "      <td>custommovement</td>\n",
       "      <td>djump_old</td>\n",
       "      <td>blandrice</td>\n",
       "      <td>yes</td>\n",
       "      <td>yes</td>\n",
       "      <td></td>\n",
       "      <td>old doublejump by blandrice before registersyn...</td>\n",
       "      <td></td>\n",
       "      <td>https://github.com/blandrice/blandlibs/tree/ma...</td>\n",
       "      <td>['custommovement',  'doublejump',  'djump_old']</td>\n",
       "    </tr>\n",
       "    <tr>\n",
       "      <th>3</th>\n",
       "      <td>custommovement</td>\n",
       "      <td>djump_registersync</td>\n",
       "      <td>blandrice</td>\n",
       "      <td>yes</td>\n",
       "      <td>yes</td>\n",
       "      <td>yes</td>\n",
       "      <td>double-jump using registersync feature</td>\n",
       "      <td></td>\n",
       "      <td>https://github.com/blandrice/blandlibs/tree/ma...</td>\n",
       "      <td>['custommovement',  'doublejump',  'djump_regi...</td>\n",
       "    </tr>\n",
       "    <tr>\n",
       "      <th>4</th>\n",
       "      <td>customweapon</td>\n",
       "      <td>customweapons</td>\n",
       "      <td>DQ Swat</td>\n",
       "      <td></td>\n",
       "      <td></td>\n",
       "      <td>yes</td>\n",
       "      <td>custom weapon script.</td>\n",
       "      <td>https://discord.com/channels/85994758600536886...</td>\n",
       "      <td>https://github.com/blandrice/blandlibs/tree/ma...</td>\n",
       "      <td>['customweapon']</td>\n",
       "    </tr>\n",
       "  </tbody>\n",
       "</table>\n",
       "</div>"
      ],
      "text/plain": [
       "         category         script_name     author client server other  \\\n",
       "0           admin               admin       KG07    yes    yes         \n",
       "1  custommovement          djump_node  blandrice    yes    yes   yes   \n",
       "2  custommovement           djump_old  blandrice    yes    yes         \n",
       "3  custommovement  djump_registersync  blandrice    yes    yes   yes   \n",
       "4    customweapon       customweapons    DQ Swat                 yes   \n",
       "\n",
       "                                         description  \\\n",
       "0  Admin system code: for map makers who doesn’t ...   \n",
       "1  Doublejump, but with using path nodes to colle...   \n",
       "2  old doublejump by blandrice before registersyn...   \n",
       "3             double-jump using registersync feature   \n",
       "4                              custom weapon script.   \n",
       "\n",
       "                                                link  \\\n",
       "0      https://github.com/KG07/admin_system_version1   \n",
       "1                                                      \n",
       "2                                                      \n",
       "3                                                      \n",
       "4  https://discord.com/channels/85994758600536886...   \n",
       "\n",
       "                                                path  \\\n",
       "0  https://github.com/blandrice/blandlibs/tree/ma...   \n",
       "1  https://github.com/blandrice/blandlibs/tree/ma...   \n",
       "2  https://github.com/blandrice/blandlibs/tree/ma...   \n",
       "3  https://github.com/blandrice/blandlibs/tree/ma...   \n",
       "4  https://github.com/blandrice/blandlibs/tree/ma...   \n",
       "\n",
       "                                                tags  \n",
       "0                                          ['admin']  \n",
       "1  ['custommovement',  'doublejump',  'djump_nodes']  \n",
       "2    ['custommovement',  'doublejump',  'djump_old']  \n",
       "3  ['custommovement',  'doublejump',  'djump_regi...  \n",
       "4                                   ['customweapon']  "
      ]
     },
     "execution_count": 4,
     "metadata": {},
     "output_type": "execute_result"
    }
   ],
   "source": [
    "\n",
    "# merge results\n",
    "result = pd.merge(df_client,df_server,how=\"outer\",on=[\"script_name\"])\n",
    "result = pd.merge(result,df_other,how=\"outer\",on=[\"script_name\"])\n",
    "result = result.fillna(\"\")\n",
    "# show field by most populated string\n",
    "for field in ['author','client','server','other','description','link','tags','path','category']:\n",
    "    result[field] = result.apply(lambda x:( x[field] if len(x[field]) > len(x[field + '_x']) else x[field + '_x']),axis=1)\n",
    "    result[field] = result.apply(lambda x:( x[field] if len(x[field]) > len(x[field + '_y']) else x[field + '_y']),axis=1)\n",
    "\n",
    "# simplified table\n",
    "simple_results = result[['category','script_name','author','client','server','other','description','link','path','tags']]\n",
    "simple_results['tags'] = simple_results['tags'].apply(lambda x: x[1:-1].split(','))\n",
    "simple_results = simple_results.sort_values([\"category\",\"script_name\"],ascending=True)\n",
    "simple_results = simple_results.reset_index(drop=True)\n",
    "simple_results.to_csv(\"KrunkScriptTable.csv\")\n",
    "simple_results.to_markdown(\"KrunkScriptTable.md\")\n",
    "\n",
    "# github table saved\n",
    "def line_prepender(filename, line):\n",
    "    with open(filename, 'r+') as f:\n",
    "        content = f.read()\n",
    "        f.seek(0, 0)\n",
    "        f.write(line.rstrip('\\r\\n') + '\\n' + content)\n",
    "line_prepender(\"KrunkScriptTable.md\",\"# Table of Krunkscripts\\n raw file: [KrunkScriptTable.csv](KrunkScriptTable.csv)\")\n",
    "simple_results.head()"
   ]
  },
  {
   "cell_type": "code",
   "execution_count": 5,
   "metadata": {},
   "outputs": [],
   "source": [
    "# overall # of scripts / contributors\n",
    "text = \"KrunkScripts: \" + str(simple_results.shape[0])\n",
    "text2 = \"Contributors: \" + str(len(simple_results['author'].unique().tolist()))\n",
    "\n",
    "from PIL import Image, ImageDraw, ImageFont\n",
    "import os\n",
    " \n",
    "def text_on_img(filename='cnt_krunkscript.png', text=\"Hello\", size=24):\n",
    "\twidth = 300\n",
    "\theight = 70\n",
    "\t\"Draw a text on an Image, saves it, show it\"\n",
    "\tfnt = ImageFont.truetype('krunkerfont.ttf', size)\n",
    "\t# create image\n",
    "\timage = Image.new(mode = \"RGB\", size = (width,height), color = \"white\")\n",
    "\tdraw = ImageDraw.Draw(image)\n",
    "\t# draw text\n",
    "\tw, h = draw.textsize(text,font=fnt)\n",
    "\tdraw.text(((width-w)/2, (height-h)/2), text, font=fnt, fill=(0,255,0))\n",
    "\t# save file\n",
    "\timage.save(filename)\n",
    "\t# show file\n",
    "\t# os.system(filename)\n",
    " \n",
    " \n",
    "text_on_img(filename=\"cnt_krunkscript.png\",text=text, size=20)\n",
    "text_on_img(filename=\"cnt_contributors.png\",text=text2, size=20)"
   ]
  },
  {
   "cell_type": "code",
   "execution_count": 6,
   "metadata": {},
   "outputs": [
    {
     "data": {
      "application/vnd.plotly.v1+json": {
       "config": {
        "plotlyServerURL": "https://plot.ly"
       },
       "data": [
        {
         "alignmentgroup": "True",
         "hovertemplate": "variable=category<br>value=%{x}<br>index=%{y}<extra></extra>",
         "legendgroup": "category",
         "marker": {
          "color": "#636efa",
          "pattern": {
           "shape": ""
          }
         },
         "name": "category",
         "offsetgroup": "category",
         "orientation": "h",
         "showlegend": true,
         "textposition": "auto",
         "texttemplate": "%{x}",
         "type": "bar",
         "x": [
          1,
          1,
          1,
          2,
          2,
          2,
          3,
          3,
          4,
          6,
          7,
          8
         ],
         "xaxis": "x",
         "y": [
          "admin",
          "customweapon",
          "examples",
          "database",
          "network",
          "scene",
          "custommovement",
          "physics",
          "utils",
          "mathutils",
          "gameutil",
          "overlay"
         ],
         "yaxis": "y"
        }
       ],
       "layout": {
        "barmode": "relative",
        "legend": {
         "title": {
          "text": "variable"
         },
         "tracegroupgap": 0
        },
        "template": {
         "data": {
          "bar": [
           {
            "error_x": {
             "color": "#2a3f5f"
            },
            "error_y": {
             "color": "#2a3f5f"
            },
            "marker": {
             "line": {
              "color": "#E5ECF6",
              "width": 0.5
             },
             "pattern": {
              "fillmode": "overlay",
              "size": 10,
              "solidity": 0.2
             }
            },
            "type": "bar"
           }
          ],
          "barpolar": [
           {
            "marker": {
             "line": {
              "color": "#E5ECF6",
              "width": 0.5
             },
             "pattern": {
              "fillmode": "overlay",
              "size": 10,
              "solidity": 0.2
             }
            },
            "type": "barpolar"
           }
          ],
          "carpet": [
           {
            "aaxis": {
             "endlinecolor": "#2a3f5f",
             "gridcolor": "white",
             "linecolor": "white",
             "minorgridcolor": "white",
             "startlinecolor": "#2a3f5f"
            },
            "baxis": {
             "endlinecolor": "#2a3f5f",
             "gridcolor": "white",
             "linecolor": "white",
             "minorgridcolor": "white",
             "startlinecolor": "#2a3f5f"
            },
            "type": "carpet"
           }
          ],
          "choropleth": [
           {
            "colorbar": {
             "outlinewidth": 0,
             "ticks": ""
            },
            "type": "choropleth"
           }
          ],
          "contour": [
           {
            "colorbar": {
             "outlinewidth": 0,
             "ticks": ""
            },
            "colorscale": [
             [
              0,
              "#0d0887"
             ],
             [
              0.1111111111111111,
              "#46039f"
             ],
             [
              0.2222222222222222,
              "#7201a8"
             ],
             [
              0.3333333333333333,
              "#9c179e"
             ],
             [
              0.4444444444444444,
              "#bd3786"
             ],
             [
              0.5555555555555556,
              "#d8576b"
             ],
             [
              0.6666666666666666,
              "#ed7953"
             ],
             [
              0.7777777777777778,
              "#fb9f3a"
             ],
             [
              0.8888888888888888,
              "#fdca26"
             ],
             [
              1,
              "#f0f921"
             ]
            ],
            "type": "contour"
           }
          ],
          "contourcarpet": [
           {
            "colorbar": {
             "outlinewidth": 0,
             "ticks": ""
            },
            "type": "contourcarpet"
           }
          ],
          "heatmap": [
           {
            "colorbar": {
             "outlinewidth": 0,
             "ticks": ""
            },
            "colorscale": [
             [
              0,
              "#0d0887"
             ],
             [
              0.1111111111111111,
              "#46039f"
             ],
             [
              0.2222222222222222,
              "#7201a8"
             ],
             [
              0.3333333333333333,
              "#9c179e"
             ],
             [
              0.4444444444444444,
              "#bd3786"
             ],
             [
              0.5555555555555556,
              "#d8576b"
             ],
             [
              0.6666666666666666,
              "#ed7953"
             ],
             [
              0.7777777777777778,
              "#fb9f3a"
             ],
             [
              0.8888888888888888,
              "#fdca26"
             ],
             [
              1,
              "#f0f921"
             ]
            ],
            "type": "heatmap"
           }
          ],
          "heatmapgl": [
           {
            "colorbar": {
             "outlinewidth": 0,
             "ticks": ""
            },
            "colorscale": [
             [
              0,
              "#0d0887"
             ],
             [
              0.1111111111111111,
              "#46039f"
             ],
             [
              0.2222222222222222,
              "#7201a8"
             ],
             [
              0.3333333333333333,
              "#9c179e"
             ],
             [
              0.4444444444444444,
              "#bd3786"
             ],
             [
              0.5555555555555556,
              "#d8576b"
             ],
             [
              0.6666666666666666,
              "#ed7953"
             ],
             [
              0.7777777777777778,
              "#fb9f3a"
             ],
             [
              0.8888888888888888,
              "#fdca26"
             ],
             [
              1,
              "#f0f921"
             ]
            ],
            "type": "heatmapgl"
           }
          ],
          "histogram": [
           {
            "marker": {
             "pattern": {
              "fillmode": "overlay",
              "size": 10,
              "solidity": 0.2
             }
            },
            "type": "histogram"
           }
          ],
          "histogram2d": [
           {
            "colorbar": {
             "outlinewidth": 0,
             "ticks": ""
            },
            "colorscale": [
             [
              0,
              "#0d0887"
             ],
             [
              0.1111111111111111,
              "#46039f"
             ],
             [
              0.2222222222222222,
              "#7201a8"
             ],
             [
              0.3333333333333333,
              "#9c179e"
             ],
             [
              0.4444444444444444,
              "#bd3786"
             ],
             [
              0.5555555555555556,
              "#d8576b"
             ],
             [
              0.6666666666666666,
              "#ed7953"
             ],
             [
              0.7777777777777778,
              "#fb9f3a"
             ],
             [
              0.8888888888888888,
              "#fdca26"
             ],
             [
              1,
              "#f0f921"
             ]
            ],
            "type": "histogram2d"
           }
          ],
          "histogram2dcontour": [
           {
            "colorbar": {
             "outlinewidth": 0,
             "ticks": ""
            },
            "colorscale": [
             [
              0,
              "#0d0887"
             ],
             [
              0.1111111111111111,
              "#46039f"
             ],
             [
              0.2222222222222222,
              "#7201a8"
             ],
             [
              0.3333333333333333,
              "#9c179e"
             ],
             [
              0.4444444444444444,
              "#bd3786"
             ],
             [
              0.5555555555555556,
              "#d8576b"
             ],
             [
              0.6666666666666666,
              "#ed7953"
             ],
             [
              0.7777777777777778,
              "#fb9f3a"
             ],
             [
              0.8888888888888888,
              "#fdca26"
             ],
             [
              1,
              "#f0f921"
             ]
            ],
            "type": "histogram2dcontour"
           }
          ],
          "mesh3d": [
           {
            "colorbar": {
             "outlinewidth": 0,
             "ticks": ""
            },
            "type": "mesh3d"
           }
          ],
          "parcoords": [
           {
            "line": {
             "colorbar": {
              "outlinewidth": 0,
              "ticks": ""
             }
            },
            "type": "parcoords"
           }
          ],
          "pie": [
           {
            "automargin": true,
            "type": "pie"
           }
          ],
          "scatter": [
           {
            "fillpattern": {
             "fillmode": "overlay",
             "size": 10,
             "solidity": 0.2
            },
            "type": "scatter"
           }
          ],
          "scatter3d": [
           {
            "line": {
             "colorbar": {
              "outlinewidth": 0,
              "ticks": ""
             }
            },
            "marker": {
             "colorbar": {
              "outlinewidth": 0,
              "ticks": ""
             }
            },
            "type": "scatter3d"
           }
          ],
          "scattercarpet": [
           {
            "marker": {
             "colorbar": {
              "outlinewidth": 0,
              "ticks": ""
             }
            },
            "type": "scattercarpet"
           }
          ],
          "scattergeo": [
           {
            "marker": {
             "colorbar": {
              "outlinewidth": 0,
              "ticks": ""
             }
            },
            "type": "scattergeo"
           }
          ],
          "scattergl": [
           {
            "marker": {
             "colorbar": {
              "outlinewidth": 0,
              "ticks": ""
             }
            },
            "type": "scattergl"
           }
          ],
          "scattermapbox": [
           {
            "marker": {
             "colorbar": {
              "outlinewidth": 0,
              "ticks": ""
             }
            },
            "type": "scattermapbox"
           }
          ],
          "scatterpolar": [
           {
            "marker": {
             "colorbar": {
              "outlinewidth": 0,
              "ticks": ""
             }
            },
            "type": "scatterpolar"
           }
          ],
          "scatterpolargl": [
           {
            "marker": {
             "colorbar": {
              "outlinewidth": 0,
              "ticks": ""
             }
            },
            "type": "scatterpolargl"
           }
          ],
          "scatterternary": [
           {
            "marker": {
             "colorbar": {
              "outlinewidth": 0,
              "ticks": ""
             }
            },
            "type": "scatterternary"
           }
          ],
          "surface": [
           {
            "colorbar": {
             "outlinewidth": 0,
             "ticks": ""
            },
            "colorscale": [
             [
              0,
              "#0d0887"
             ],
             [
              0.1111111111111111,
              "#46039f"
             ],
             [
              0.2222222222222222,
              "#7201a8"
             ],
             [
              0.3333333333333333,
              "#9c179e"
             ],
             [
              0.4444444444444444,
              "#bd3786"
             ],
             [
              0.5555555555555556,
              "#d8576b"
             ],
             [
              0.6666666666666666,
              "#ed7953"
             ],
             [
              0.7777777777777778,
              "#fb9f3a"
             ],
             [
              0.8888888888888888,
              "#fdca26"
             ],
             [
              1,
              "#f0f921"
             ]
            ],
            "type": "surface"
           }
          ],
          "table": [
           {
            "cells": {
             "fill": {
              "color": "#EBF0F8"
             },
             "line": {
              "color": "white"
             }
            },
            "header": {
             "fill": {
              "color": "#C8D4E3"
             },
             "line": {
              "color": "white"
             }
            },
            "type": "table"
           }
          ]
         },
         "layout": {
          "annotationdefaults": {
           "arrowcolor": "#2a3f5f",
           "arrowhead": 0,
           "arrowwidth": 1
          },
          "autotypenumbers": "strict",
          "coloraxis": {
           "colorbar": {
            "outlinewidth": 0,
            "ticks": ""
           }
          },
          "colorscale": {
           "diverging": [
            [
             0,
             "#8e0152"
            ],
            [
             0.1,
             "#c51b7d"
            ],
            [
             0.2,
             "#de77ae"
            ],
            [
             0.3,
             "#f1b6da"
            ],
            [
             0.4,
             "#fde0ef"
            ],
            [
             0.5,
             "#f7f7f7"
            ],
            [
             0.6,
             "#e6f5d0"
            ],
            [
             0.7,
             "#b8e186"
            ],
            [
             0.8,
             "#7fbc41"
            ],
            [
             0.9,
             "#4d9221"
            ],
            [
             1,
             "#276419"
            ]
           ],
           "sequential": [
            [
             0,
             "#0d0887"
            ],
            [
             0.1111111111111111,
             "#46039f"
            ],
            [
             0.2222222222222222,
             "#7201a8"
            ],
            [
             0.3333333333333333,
             "#9c179e"
            ],
            [
             0.4444444444444444,
             "#bd3786"
            ],
            [
             0.5555555555555556,
             "#d8576b"
            ],
            [
             0.6666666666666666,
             "#ed7953"
            ],
            [
             0.7777777777777778,
             "#fb9f3a"
            ],
            [
             0.8888888888888888,
             "#fdca26"
            ],
            [
             1,
             "#f0f921"
            ]
           ],
           "sequentialminus": [
            [
             0,
             "#0d0887"
            ],
            [
             0.1111111111111111,
             "#46039f"
            ],
            [
             0.2222222222222222,
             "#7201a8"
            ],
            [
             0.3333333333333333,
             "#9c179e"
            ],
            [
             0.4444444444444444,
             "#bd3786"
            ],
            [
             0.5555555555555556,
             "#d8576b"
            ],
            [
             0.6666666666666666,
             "#ed7953"
            ],
            [
             0.7777777777777778,
             "#fb9f3a"
            ],
            [
             0.8888888888888888,
             "#fdca26"
            ],
            [
             1,
             "#f0f921"
            ]
           ]
          },
          "colorway": [
           "#636efa",
           "#EF553B",
           "#00cc96",
           "#ab63fa",
           "#FFA15A",
           "#19d3f3",
           "#FF6692",
           "#B6E880",
           "#FF97FF",
           "#FECB52"
          ],
          "font": {
           "color": "#2a3f5f"
          },
          "geo": {
           "bgcolor": "white",
           "lakecolor": "white",
           "landcolor": "#E5ECF6",
           "showlakes": true,
           "showland": true,
           "subunitcolor": "white"
          },
          "hoverlabel": {
           "align": "left"
          },
          "hovermode": "closest",
          "mapbox": {
           "style": "light"
          },
          "paper_bgcolor": "white",
          "plot_bgcolor": "#E5ECF6",
          "polar": {
           "angularaxis": {
            "gridcolor": "white",
            "linecolor": "white",
            "ticks": ""
           },
           "bgcolor": "#E5ECF6",
           "radialaxis": {
            "gridcolor": "white",
            "linecolor": "white",
            "ticks": ""
           }
          },
          "scene": {
           "xaxis": {
            "backgroundcolor": "#E5ECF6",
            "gridcolor": "white",
            "gridwidth": 2,
            "linecolor": "white",
            "showbackground": true,
            "ticks": "",
            "zerolinecolor": "white"
           },
           "yaxis": {
            "backgroundcolor": "#E5ECF6",
            "gridcolor": "white",
            "gridwidth": 2,
            "linecolor": "white",
            "showbackground": true,
            "ticks": "",
            "zerolinecolor": "white"
           },
           "zaxis": {
            "backgroundcolor": "#E5ECF6",
            "gridcolor": "white",
            "gridwidth": 2,
            "linecolor": "white",
            "showbackground": true,
            "ticks": "",
            "zerolinecolor": "white"
           }
          },
          "shapedefaults": {
           "line": {
            "color": "#2a3f5f"
           }
          },
          "ternary": {
           "aaxis": {
            "gridcolor": "white",
            "linecolor": "white",
            "ticks": ""
           },
           "baxis": {
            "gridcolor": "white",
            "linecolor": "white",
            "ticks": ""
           },
           "bgcolor": "#E5ECF6",
           "caxis": {
            "gridcolor": "white",
            "linecolor": "white",
            "ticks": ""
           }
          },
          "title": {
           "x": 0.05
          },
          "xaxis": {
           "automargin": true,
           "gridcolor": "white",
           "linecolor": "white",
           "ticks": "",
           "title": {
            "standoff": 15
           },
           "zerolinecolor": "white",
           "zerolinewidth": 2
          },
          "yaxis": {
           "automargin": true,
           "gridcolor": "white",
           "linecolor": "white",
           "ticks": "",
           "title": {
            "standoff": 15
           },
           "zerolinecolor": "white",
           "zerolinewidth": 2
          }
         }
        },
        "title": {
         "text": "# KrunkScripts per category"
        },
        "xaxis": {
         "anchor": "y",
         "domain": [
          0,
          1
         ],
         "title": {
          "text": "count"
         }
        },
        "yaxis": {
         "anchor": "x",
         "domain": [
          0,
          1
         ],
         "title": {
          "text": "category"
         }
        }
       }
      }
     },
     "metadata": {},
     "output_type": "display_data"
    }
   ],
   "source": [
    "# bar chart by category\n",
    "field = \"category\"\n",
    "results_groupby = simple_results.groupby(field)[field].count()\n",
    "fig = px.bar(results_groupby.sort_values(ascending=True),orientation=\"h\",title=\"# KrunkScripts per category\",text_auto=True)\n",
    "fig.update_layout(\n",
    "    yaxis_title=\"category\",\n",
    "    xaxis_title=\"count\"\n",
    ")\n",
    "fig.show()\n",
    "fig.write_image(\"category.png\") \n"
   ]
  },
  {
   "cell_type": "code",
   "execution_count": 7,
   "metadata": {},
   "outputs": [
    {
     "data": {
      "application/vnd.plotly.v1+json": {
       "config": {
        "plotlyServerURL": "https://plot.ly"
       },
       "data": [
        {
         "domain": {
          "x": [
           0,
           1
          ],
          "y": [
           0,
           1
          ]
         },
         "hovertemplate": "author=%{label}<br>count=%{value}<extra></extra>",
         "labels": [
          "Andrii",
          "Bub Lap",
          "ChatGPT",
          "DQ Swat",
          "DukeV",
          "KG07",
          "L-U-C-A",
          "ProfNoob",
          "Sakurasou",
          "SlxTnT",
          "blandrice",
          "creepycats"
         ],
         "legendgroup": "",
         "name": "",
         "showlegend": true,
         "textinfo": "value",
         "type": "pie",
         "values": [
          1,
          3,
          2,
          1,
          1,
          2,
          1,
          2,
          2,
          2,
          20,
          3
         ]
        }
       ],
       "layout": {
        "legend": {
         "tracegroupgap": 0
        },
        "margin": {
         "t": 60
        },
        "template": {
         "data": {
          "bar": [
           {
            "error_x": {
             "color": "#2a3f5f"
            },
            "error_y": {
             "color": "#2a3f5f"
            },
            "marker": {
             "line": {
              "color": "#E5ECF6",
              "width": 0.5
             },
             "pattern": {
              "fillmode": "overlay",
              "size": 10,
              "solidity": 0.2
             }
            },
            "type": "bar"
           }
          ],
          "barpolar": [
           {
            "marker": {
             "line": {
              "color": "#E5ECF6",
              "width": 0.5
             },
             "pattern": {
              "fillmode": "overlay",
              "size": 10,
              "solidity": 0.2
             }
            },
            "type": "barpolar"
           }
          ],
          "carpet": [
           {
            "aaxis": {
             "endlinecolor": "#2a3f5f",
             "gridcolor": "white",
             "linecolor": "white",
             "minorgridcolor": "white",
             "startlinecolor": "#2a3f5f"
            },
            "baxis": {
             "endlinecolor": "#2a3f5f",
             "gridcolor": "white",
             "linecolor": "white",
             "minorgridcolor": "white",
             "startlinecolor": "#2a3f5f"
            },
            "type": "carpet"
           }
          ],
          "choropleth": [
           {
            "colorbar": {
             "outlinewidth": 0,
             "ticks": ""
            },
            "type": "choropleth"
           }
          ],
          "contour": [
           {
            "colorbar": {
             "outlinewidth": 0,
             "ticks": ""
            },
            "colorscale": [
             [
              0,
              "#0d0887"
             ],
             [
              0.1111111111111111,
              "#46039f"
             ],
             [
              0.2222222222222222,
              "#7201a8"
             ],
             [
              0.3333333333333333,
              "#9c179e"
             ],
             [
              0.4444444444444444,
              "#bd3786"
             ],
             [
              0.5555555555555556,
              "#d8576b"
             ],
             [
              0.6666666666666666,
              "#ed7953"
             ],
             [
              0.7777777777777778,
              "#fb9f3a"
             ],
             [
              0.8888888888888888,
              "#fdca26"
             ],
             [
              1,
              "#f0f921"
             ]
            ],
            "type": "contour"
           }
          ],
          "contourcarpet": [
           {
            "colorbar": {
             "outlinewidth": 0,
             "ticks": ""
            },
            "type": "contourcarpet"
           }
          ],
          "heatmap": [
           {
            "colorbar": {
             "outlinewidth": 0,
             "ticks": ""
            },
            "colorscale": [
             [
              0,
              "#0d0887"
             ],
             [
              0.1111111111111111,
              "#46039f"
             ],
             [
              0.2222222222222222,
              "#7201a8"
             ],
             [
              0.3333333333333333,
              "#9c179e"
             ],
             [
              0.4444444444444444,
              "#bd3786"
             ],
             [
              0.5555555555555556,
              "#d8576b"
             ],
             [
              0.6666666666666666,
              "#ed7953"
             ],
             [
              0.7777777777777778,
              "#fb9f3a"
             ],
             [
              0.8888888888888888,
              "#fdca26"
             ],
             [
              1,
              "#f0f921"
             ]
            ],
            "type": "heatmap"
           }
          ],
          "heatmapgl": [
           {
            "colorbar": {
             "outlinewidth": 0,
             "ticks": ""
            },
            "colorscale": [
             [
              0,
              "#0d0887"
             ],
             [
              0.1111111111111111,
              "#46039f"
             ],
             [
              0.2222222222222222,
              "#7201a8"
             ],
             [
              0.3333333333333333,
              "#9c179e"
             ],
             [
              0.4444444444444444,
              "#bd3786"
             ],
             [
              0.5555555555555556,
              "#d8576b"
             ],
             [
              0.6666666666666666,
              "#ed7953"
             ],
             [
              0.7777777777777778,
              "#fb9f3a"
             ],
             [
              0.8888888888888888,
              "#fdca26"
             ],
             [
              1,
              "#f0f921"
             ]
            ],
            "type": "heatmapgl"
           }
          ],
          "histogram": [
           {
            "marker": {
             "pattern": {
              "fillmode": "overlay",
              "size": 10,
              "solidity": 0.2
             }
            },
            "type": "histogram"
           }
          ],
          "histogram2d": [
           {
            "colorbar": {
             "outlinewidth": 0,
             "ticks": ""
            },
            "colorscale": [
             [
              0,
              "#0d0887"
             ],
             [
              0.1111111111111111,
              "#46039f"
             ],
             [
              0.2222222222222222,
              "#7201a8"
             ],
             [
              0.3333333333333333,
              "#9c179e"
             ],
             [
              0.4444444444444444,
              "#bd3786"
             ],
             [
              0.5555555555555556,
              "#d8576b"
             ],
             [
              0.6666666666666666,
              "#ed7953"
             ],
             [
              0.7777777777777778,
              "#fb9f3a"
             ],
             [
              0.8888888888888888,
              "#fdca26"
             ],
             [
              1,
              "#f0f921"
             ]
            ],
            "type": "histogram2d"
           }
          ],
          "histogram2dcontour": [
           {
            "colorbar": {
             "outlinewidth": 0,
             "ticks": ""
            },
            "colorscale": [
             [
              0,
              "#0d0887"
             ],
             [
              0.1111111111111111,
              "#46039f"
             ],
             [
              0.2222222222222222,
              "#7201a8"
             ],
             [
              0.3333333333333333,
              "#9c179e"
             ],
             [
              0.4444444444444444,
              "#bd3786"
             ],
             [
              0.5555555555555556,
              "#d8576b"
             ],
             [
              0.6666666666666666,
              "#ed7953"
             ],
             [
              0.7777777777777778,
              "#fb9f3a"
             ],
             [
              0.8888888888888888,
              "#fdca26"
             ],
             [
              1,
              "#f0f921"
             ]
            ],
            "type": "histogram2dcontour"
           }
          ],
          "mesh3d": [
           {
            "colorbar": {
             "outlinewidth": 0,
             "ticks": ""
            },
            "type": "mesh3d"
           }
          ],
          "parcoords": [
           {
            "line": {
             "colorbar": {
              "outlinewidth": 0,
              "ticks": ""
             }
            },
            "type": "parcoords"
           }
          ],
          "pie": [
           {
            "automargin": true,
            "type": "pie"
           }
          ],
          "scatter": [
           {
            "fillpattern": {
             "fillmode": "overlay",
             "size": 10,
             "solidity": 0.2
            },
            "type": "scatter"
           }
          ],
          "scatter3d": [
           {
            "line": {
             "colorbar": {
              "outlinewidth": 0,
              "ticks": ""
             }
            },
            "marker": {
             "colorbar": {
              "outlinewidth": 0,
              "ticks": ""
             }
            },
            "type": "scatter3d"
           }
          ],
          "scattercarpet": [
           {
            "marker": {
             "colorbar": {
              "outlinewidth": 0,
              "ticks": ""
             }
            },
            "type": "scattercarpet"
           }
          ],
          "scattergeo": [
           {
            "marker": {
             "colorbar": {
              "outlinewidth": 0,
              "ticks": ""
             }
            },
            "type": "scattergeo"
           }
          ],
          "scattergl": [
           {
            "marker": {
             "colorbar": {
              "outlinewidth": 0,
              "ticks": ""
             }
            },
            "type": "scattergl"
           }
          ],
          "scattermapbox": [
           {
            "marker": {
             "colorbar": {
              "outlinewidth": 0,
              "ticks": ""
             }
            },
            "type": "scattermapbox"
           }
          ],
          "scatterpolar": [
           {
            "marker": {
             "colorbar": {
              "outlinewidth": 0,
              "ticks": ""
             }
            },
            "type": "scatterpolar"
           }
          ],
          "scatterpolargl": [
           {
            "marker": {
             "colorbar": {
              "outlinewidth": 0,
              "ticks": ""
             }
            },
            "type": "scatterpolargl"
           }
          ],
          "scatterternary": [
           {
            "marker": {
             "colorbar": {
              "outlinewidth": 0,
              "ticks": ""
             }
            },
            "type": "scatterternary"
           }
          ],
          "surface": [
           {
            "colorbar": {
             "outlinewidth": 0,
             "ticks": ""
            },
            "colorscale": [
             [
              0,
              "#0d0887"
             ],
             [
              0.1111111111111111,
              "#46039f"
             ],
             [
              0.2222222222222222,
              "#7201a8"
             ],
             [
              0.3333333333333333,
              "#9c179e"
             ],
             [
              0.4444444444444444,
              "#bd3786"
             ],
             [
              0.5555555555555556,
              "#d8576b"
             ],
             [
              0.6666666666666666,
              "#ed7953"
             ],
             [
              0.7777777777777778,
              "#fb9f3a"
             ],
             [
              0.8888888888888888,
              "#fdca26"
             ],
             [
              1,
              "#f0f921"
             ]
            ],
            "type": "surface"
           }
          ],
          "table": [
           {
            "cells": {
             "fill": {
              "color": "#EBF0F8"
             },
             "line": {
              "color": "white"
             }
            },
            "header": {
             "fill": {
              "color": "#C8D4E3"
             },
             "line": {
              "color": "white"
             }
            },
            "type": "table"
           }
          ]
         },
         "layout": {
          "annotationdefaults": {
           "arrowcolor": "#2a3f5f",
           "arrowhead": 0,
           "arrowwidth": 1
          },
          "autotypenumbers": "strict",
          "coloraxis": {
           "colorbar": {
            "outlinewidth": 0,
            "ticks": ""
           }
          },
          "colorscale": {
           "diverging": [
            [
             0,
             "#8e0152"
            ],
            [
             0.1,
             "#c51b7d"
            ],
            [
             0.2,
             "#de77ae"
            ],
            [
             0.3,
             "#f1b6da"
            ],
            [
             0.4,
             "#fde0ef"
            ],
            [
             0.5,
             "#f7f7f7"
            ],
            [
             0.6,
             "#e6f5d0"
            ],
            [
             0.7,
             "#b8e186"
            ],
            [
             0.8,
             "#7fbc41"
            ],
            [
             0.9,
             "#4d9221"
            ],
            [
             1,
             "#276419"
            ]
           ],
           "sequential": [
            [
             0,
             "#0d0887"
            ],
            [
             0.1111111111111111,
             "#46039f"
            ],
            [
             0.2222222222222222,
             "#7201a8"
            ],
            [
             0.3333333333333333,
             "#9c179e"
            ],
            [
             0.4444444444444444,
             "#bd3786"
            ],
            [
             0.5555555555555556,
             "#d8576b"
            ],
            [
             0.6666666666666666,
             "#ed7953"
            ],
            [
             0.7777777777777778,
             "#fb9f3a"
            ],
            [
             0.8888888888888888,
             "#fdca26"
            ],
            [
             1,
             "#f0f921"
            ]
           ],
           "sequentialminus": [
            [
             0,
             "#0d0887"
            ],
            [
             0.1111111111111111,
             "#46039f"
            ],
            [
             0.2222222222222222,
             "#7201a8"
            ],
            [
             0.3333333333333333,
             "#9c179e"
            ],
            [
             0.4444444444444444,
             "#bd3786"
            ],
            [
             0.5555555555555556,
             "#d8576b"
            ],
            [
             0.6666666666666666,
             "#ed7953"
            ],
            [
             0.7777777777777778,
             "#fb9f3a"
            ],
            [
             0.8888888888888888,
             "#fdca26"
            ],
            [
             1,
             "#f0f921"
            ]
           ]
          },
          "colorway": [
           "#636efa",
           "#EF553B",
           "#00cc96",
           "#ab63fa",
           "#FFA15A",
           "#19d3f3",
           "#FF6692",
           "#B6E880",
           "#FF97FF",
           "#FECB52"
          ],
          "font": {
           "color": "#2a3f5f"
          },
          "geo": {
           "bgcolor": "white",
           "lakecolor": "white",
           "landcolor": "#E5ECF6",
           "showlakes": true,
           "showland": true,
           "subunitcolor": "white"
          },
          "hoverlabel": {
           "align": "left"
          },
          "hovermode": "closest",
          "mapbox": {
           "style": "light"
          },
          "paper_bgcolor": "white",
          "plot_bgcolor": "#E5ECF6",
          "polar": {
           "angularaxis": {
            "gridcolor": "white",
            "linecolor": "white",
            "ticks": ""
           },
           "bgcolor": "#E5ECF6",
           "radialaxis": {
            "gridcolor": "white",
            "linecolor": "white",
            "ticks": ""
           }
          },
          "scene": {
           "xaxis": {
            "backgroundcolor": "#E5ECF6",
            "gridcolor": "white",
            "gridwidth": 2,
            "linecolor": "white",
            "showbackground": true,
            "ticks": "",
            "zerolinecolor": "white"
           },
           "yaxis": {
            "backgroundcolor": "#E5ECF6",
            "gridcolor": "white",
            "gridwidth": 2,
            "linecolor": "white",
            "showbackground": true,
            "ticks": "",
            "zerolinecolor": "white"
           },
           "zaxis": {
            "backgroundcolor": "#E5ECF6",
            "gridcolor": "white",
            "gridwidth": 2,
            "linecolor": "white",
            "showbackground": true,
            "ticks": "",
            "zerolinecolor": "white"
           }
          },
          "shapedefaults": {
           "line": {
            "color": "#2a3f5f"
           }
          },
          "ternary": {
           "aaxis": {
            "gridcolor": "white",
            "linecolor": "white",
            "ticks": ""
           },
           "baxis": {
            "gridcolor": "white",
            "linecolor": "white",
            "ticks": ""
           },
           "bgcolor": "#E5ECF6",
           "caxis": {
            "gridcolor": "white",
            "linecolor": "white",
            "ticks": ""
           }
          },
          "title": {
           "x": 0.05
          },
          "xaxis": {
           "automargin": true,
           "gridcolor": "white",
           "linecolor": "white",
           "ticks": "",
           "title": {
            "standoff": 15
           },
           "zerolinecolor": "white",
           "zerolinewidth": 2
          },
          "yaxis": {
           "automargin": true,
           "gridcolor": "white",
           "linecolor": "white",
           "ticks": "",
           "title": {
            "standoff": 15
           },
           "zerolinecolor": "white",
           "zerolinewidth": 2
          }
         }
        },
        "title": {
         "text": "Krunkscripts per Author"
        }
       }
      }
     },
     "metadata": {},
     "output_type": "display_data"
    }
   ],
   "source": [
    "# pie chart by author\n",
    "field = \"author\"\n",
    "results_groupby = simple_results.groupby(field)[field].count()\n",
    "results_groupby = results_groupby.to_frame().rename(columns={\"author\": \"count\"}).reset_index()\n",
    "\n",
    "results_groupby\n",
    "fig = px.pie(results_groupby,values='count',names='author')\n",
    "fig.update_traces(textinfo='value')\n",
    "fig.update_layout(\n",
    "    title=\"Krunkscripts per Author\"\n",
    ")\n",
    "fig.show()\n",
    "fig.write_image(\"author.png\") \n"
   ]
  },
  {
   "cell_type": "code",
   "execution_count": 8,
   "metadata": {},
   "outputs": [
    {
     "name": "stderr",
     "output_type": "stream",
     "text": [
      "C:\\Users\\Justi\\AppData\\Local\\Temp/ipykernel_10944/3986019378.py:6: FutureWarning:\n",
      "\n",
      "Using the level keyword in DataFrame and Series aggregations is deprecated and will be removed in a future version. Use groupby instead. df.sum(level=1) should use df.groupby(level=1).sum().\n",
      "\n"
     ]
    },
    {
     "ename": "KeyError",
     "evalue": "'tags_game'",
     "output_type": "error",
     "traceback": [
      "\u001b[1;31m---------------------------------------------------------------------------\u001b[0m",
      "\u001b[1;31mKeyError\u001b[0m                                  Traceback (most recent call last)",
      "\u001b[1;32mc:\\Users\\Justi\\anaconda3\\envs\\python38\\lib\\site-packages\\pandas\\core\\indexes\\base.py\u001b[0m in \u001b[0;36mget_loc\u001b[1;34m(self, key, method, tolerance)\u001b[0m\n\u001b[0;32m   3360\u001b[0m             \u001b[1;32mtry\u001b[0m\u001b[1;33m:\u001b[0m\u001b[1;33m\u001b[0m\u001b[1;33m\u001b[0m\u001b[0m\n\u001b[1;32m-> 3361\u001b[1;33m                 \u001b[1;32mreturn\u001b[0m \u001b[0mself\u001b[0m\u001b[1;33m.\u001b[0m\u001b[0m_engine\u001b[0m\u001b[1;33m.\u001b[0m\u001b[0mget_loc\u001b[0m\u001b[1;33m(\u001b[0m\u001b[0mcasted_key\u001b[0m\u001b[1;33m)\u001b[0m\u001b[1;33m\u001b[0m\u001b[1;33m\u001b[0m\u001b[0m\n\u001b[0m\u001b[0;32m   3362\u001b[0m             \u001b[1;32mexcept\u001b[0m \u001b[0mKeyError\u001b[0m \u001b[1;32mas\u001b[0m \u001b[0merr\u001b[0m\u001b[1;33m:\u001b[0m\u001b[1;33m\u001b[0m\u001b[1;33m\u001b[0m\u001b[0m\n",
      "\u001b[1;32mc:\\Users\\Justi\\anaconda3\\envs\\python38\\lib\\site-packages\\pandas\\_libs\\index.pyx\u001b[0m in \u001b[0;36mpandas._libs.index.IndexEngine.get_loc\u001b[1;34m()\u001b[0m\n",
      "\u001b[1;32mc:\\Users\\Justi\\anaconda3\\envs\\python38\\lib\\site-packages\\pandas\\_libs\\index.pyx\u001b[0m in \u001b[0;36mpandas._libs.index.IndexEngine.get_loc\u001b[1;34m()\u001b[0m\n",
      "\u001b[1;32mpandas\\_libs\\hashtable_class_helper.pxi\u001b[0m in \u001b[0;36mpandas._libs.hashtable.PyObjectHashTable.get_item\u001b[1;34m()\u001b[0m\n",
      "\u001b[1;32mpandas\\_libs\\hashtable_class_helper.pxi\u001b[0m in \u001b[0;36mpandas._libs.hashtable.PyObjectHashTable.get_item\u001b[1;34m()\u001b[0m\n",
      "\u001b[1;31mKeyError\u001b[0m: 'tags_game'",
      "\nThe above exception was the direct cause of the following exception:\n",
      "\u001b[1;31mKeyError\u001b[0m                                  Traceback (most recent call last)",
      "\u001b[1;32mc:\\Users\\Justi\\Documents\\GitHub\\blandlibs\\docs\\table.py\u001b[0m in \u001b[0;36m<module>\u001b[1;34m\u001b[0m\n\u001b[0;32m     12\u001b[0m \u001b[1;31m# search by tag name\u001b[0m\u001b[1;33m\u001b[0m\u001b[1;33m\u001b[0m\u001b[1;33m\u001b[0m\u001b[0m\n\u001b[0;32m     13\u001b[0m \u001b[0msearchtag\u001b[0m \u001b[1;33m=\u001b[0m \u001b[1;34m\"game\"\u001b[0m\u001b[1;33m\u001b[0m\u001b[1;33m\u001b[0m\u001b[0m\n\u001b[1;32m---> 14\u001b[1;33m \u001b[0msearch_results\u001b[0m \u001b[1;33m=\u001b[0m \u001b[0msimple_result_tags\u001b[0m\u001b[1;33m[\u001b[0m\u001b[0msimple_result_tags\u001b[0m\u001b[1;33m[\u001b[0m\u001b[1;34m'tags_'\u001b[0m\u001b[1;33m+\u001b[0m\u001b[0msearchtag\u001b[0m\u001b[1;33m]\u001b[0m \u001b[1;33m==\u001b[0m \u001b[1;36m1\u001b[0m\u001b[1;33m]\u001b[0m\u001b[1;33m\u001b[0m\u001b[1;33m\u001b[0m\u001b[0m\n\u001b[0m\u001b[0;32m     15\u001b[0m \u001b[0msearch_results\u001b[0m\u001b[1;33m.\u001b[0m\u001b[0mhead\u001b[0m\u001b[1;33m(\u001b[0m\u001b[1;33m)\u001b[0m\u001b[1;33m\u001b[0m\u001b[1;33m\u001b[0m\u001b[0m\n",
      "\u001b[1;32mc:\\Users\\Justi\\anaconda3\\envs\\python38\\lib\\site-packages\\pandas\\core\\frame.py\u001b[0m in \u001b[0;36m__getitem__\u001b[1;34m(self, key)\u001b[0m\n\u001b[0;32m   3453\u001b[0m             \u001b[1;32mif\u001b[0m \u001b[0mself\u001b[0m\u001b[1;33m.\u001b[0m\u001b[0mcolumns\u001b[0m\u001b[1;33m.\u001b[0m\u001b[0mnlevels\u001b[0m \u001b[1;33m>\u001b[0m \u001b[1;36m1\u001b[0m\u001b[1;33m:\u001b[0m\u001b[1;33m\u001b[0m\u001b[1;33m\u001b[0m\u001b[0m\n\u001b[0;32m   3454\u001b[0m                 \u001b[1;32mreturn\u001b[0m \u001b[0mself\u001b[0m\u001b[1;33m.\u001b[0m\u001b[0m_getitem_multilevel\u001b[0m\u001b[1;33m(\u001b[0m\u001b[0mkey\u001b[0m\u001b[1;33m)\u001b[0m\u001b[1;33m\u001b[0m\u001b[1;33m\u001b[0m\u001b[0m\n\u001b[1;32m-> 3455\u001b[1;33m             \u001b[0mindexer\u001b[0m \u001b[1;33m=\u001b[0m \u001b[0mself\u001b[0m\u001b[1;33m.\u001b[0m\u001b[0mcolumns\u001b[0m\u001b[1;33m.\u001b[0m\u001b[0mget_loc\u001b[0m\u001b[1;33m(\u001b[0m\u001b[0mkey\u001b[0m\u001b[1;33m)\u001b[0m\u001b[1;33m\u001b[0m\u001b[1;33m\u001b[0m\u001b[0m\n\u001b[0m\u001b[0;32m   3456\u001b[0m             \u001b[1;32mif\u001b[0m \u001b[0mis_integer\u001b[0m\u001b[1;33m(\u001b[0m\u001b[0mindexer\u001b[0m\u001b[1;33m)\u001b[0m\u001b[1;33m:\u001b[0m\u001b[1;33m\u001b[0m\u001b[1;33m\u001b[0m\u001b[0m\n\u001b[0;32m   3457\u001b[0m                 \u001b[0mindexer\u001b[0m \u001b[1;33m=\u001b[0m \u001b[1;33m[\u001b[0m\u001b[0mindexer\u001b[0m\u001b[1;33m]\u001b[0m\u001b[1;33m\u001b[0m\u001b[1;33m\u001b[0m\u001b[0m\n",
      "\u001b[1;32mc:\\Users\\Justi\\anaconda3\\envs\\python38\\lib\\site-packages\\pandas\\core\\indexes\\base.py\u001b[0m in \u001b[0;36mget_loc\u001b[1;34m(self, key, method, tolerance)\u001b[0m\n\u001b[0;32m   3361\u001b[0m                 \u001b[1;32mreturn\u001b[0m \u001b[0mself\u001b[0m\u001b[1;33m.\u001b[0m\u001b[0m_engine\u001b[0m\u001b[1;33m.\u001b[0m\u001b[0mget_loc\u001b[0m\u001b[1;33m(\u001b[0m\u001b[0mcasted_key\u001b[0m\u001b[1;33m)\u001b[0m\u001b[1;33m\u001b[0m\u001b[1;33m\u001b[0m\u001b[0m\n\u001b[0;32m   3362\u001b[0m             \u001b[1;32mexcept\u001b[0m \u001b[0mKeyError\u001b[0m \u001b[1;32mas\u001b[0m \u001b[0merr\u001b[0m\u001b[1;33m:\u001b[0m\u001b[1;33m\u001b[0m\u001b[1;33m\u001b[0m\u001b[0m\n\u001b[1;32m-> 3363\u001b[1;33m                 \u001b[1;32mraise\u001b[0m \u001b[0mKeyError\u001b[0m\u001b[1;33m(\u001b[0m\u001b[0mkey\u001b[0m\u001b[1;33m)\u001b[0m \u001b[1;32mfrom\u001b[0m \u001b[0merr\u001b[0m\u001b[1;33m\u001b[0m\u001b[1;33m\u001b[0m\u001b[0m\n\u001b[0m\u001b[0;32m   3364\u001b[0m \u001b[1;33m\u001b[0m\u001b[0m\n\u001b[0;32m   3365\u001b[0m         \u001b[1;32mif\u001b[0m \u001b[0mis_scalar\u001b[0m\u001b[1;33m(\u001b[0m\u001b[0mkey\u001b[0m\u001b[1;33m)\u001b[0m \u001b[1;32mand\u001b[0m \u001b[0misna\u001b[0m\u001b[1;33m(\u001b[0m\u001b[0mkey\u001b[0m\u001b[1;33m)\u001b[0m \u001b[1;32mand\u001b[0m \u001b[1;32mnot\u001b[0m \u001b[0mself\u001b[0m\u001b[1;33m.\u001b[0m\u001b[0mhasnans\u001b[0m\u001b[1;33m:\u001b[0m\u001b[1;33m\u001b[0m\u001b[1;33m\u001b[0m\u001b[0m\n",
      "\u001b[1;31mKeyError\u001b[0m: 'tags_game'"
     ]
    }
   ],
   "source": [
    "'''\n",
    "search by tags in python\n",
    "'''\n",
    "\n",
    "# dummy values?\n",
    "tag_columns = pd.get_dummies(simple_results['tags'].apply(pd.Series).stack()).sum(level=0)\n",
    "# add prefix\n",
    "tag_columns.columns = [('tags_' + str(col).strip().replace(\"'\",\"\"))for col in tag_columns.columns.tolist()]\n",
    "# concat to results\n",
    "simple_result_tags = pd.concat([simple_results, tag_columns], axis=1)\n",
    "\n",
    "# search by tag name\n",
    "searchtag = \"game\"\n",
    "search_results = simple_result_tags[simple_result_tags['tags_'+searchtag] == 1]\n",
    "search_results.head()\n"
   ]
  },
  {
   "cell_type": "code",
   "execution_count": null,
   "metadata": {},
   "outputs": [
    {
     "data": {
      "text/plain": [
       "tags_util              9\n",
       "tags_overlay           8\n",
       "tags_gameutil          8\n",
       "tags_game              5\n",
       "tags_custommovement    3\n",
       "dtype: int64"
      ]
     },
     "execution_count": 248,
     "metadata": {},
     "output_type": "execute_result"
    }
   ],
   "source": [
    "tag_columns.sum().sort_values(ascending=False).head()"
   ]
  },
  {
   "cell_type": "code",
   "execution_count": null,
   "metadata": {},
   "outputs": [
    {
     "data": {
      "text/html": [
       "<div>\n",
       "<style scoped>\n",
       "    .dataframe tbody tr th:only-of-type {\n",
       "        vertical-align: middle;\n",
       "    }\n",
       "\n",
       "    .dataframe tbody tr th {\n",
       "        vertical-align: top;\n",
       "    }\n",
       "\n",
       "    .dataframe thead th {\n",
       "        text-align: right;\n",
       "    }\n",
       "</style>\n",
       "<table border=\"1\" class=\"dataframe\">\n",
       "  <thead>\n",
       "    <tr style=\"text-align: right;\">\n",
       "      <th></th>\n",
       "      <th>category</th>\n",
       "      <th>script_name</th>\n",
       "      <th>author</th>\n",
       "      <th>client</th>\n",
       "      <th>server</th>\n",
       "      <th>other</th>\n",
       "      <th>description</th>\n",
       "      <th>link</th>\n",
       "      <th>path</th>\n",
       "      <th>tags</th>\n",
       "    </tr>\n",
       "  </thead>\n",
       "  <tbody>\n",
       "    <tr>\n",
       "      <th>0</th>\n",
       "      <td>database</td>\n",
       "      <td>ranks</td>\n",
       "      <td>blandrice</td>\n",
       "      <td>yes</td>\n",
       "      <td>yes</td>\n",
       "      <td></td>\n",
       "      <td>Create a map in Krunker and copy the client &amp; ...</td>\n",
       "      <td>https://github.com/blandrice/krunkerClansPlus</td>\n",
       "      <td>https://github.com/blandrice/blandlibs/tree/ma...</td>\n",
       "      <td>['database',  'clansrank']</td>\n",
       "    </tr>\n",
       "    <tr>\n",
       "      <th>1</th>\n",
       "      <td>database</td>\n",
       "      <td>ranksmainmap</td>\n",
       "      <td>blandrice</td>\n",
       "      <td>yes</td>\n",
       "      <td>yes</td>\n",
       "      <td></td>\n",
       "      <td>This is a shareable script to display popular ...</td>\n",
       "      <td>https://github.com/blandrice/krunkerClansPlus</td>\n",
       "      <td>https://github.com/blandrice/blandlibs/tree/ma...</td>\n",
       "      <td>['database',  'clansrank']</td>\n",
       "    </tr>\n",
       "    <tr>\n",
       "      <th>4</th>\n",
       "      <td>game</td>\n",
       "      <td>djump_node</td>\n",
       "      <td>blandrice</td>\n",
       "      <td>yes</td>\n",
       "      <td>yes</td>\n",
       "      <td>yes</td>\n",
       "      <td>Doublejump, but with using path nodes to colle...</td>\n",
       "      <td></td>\n",
       "      <td>https://github.com/blandrice/blandlibs/tree/ma...</td>\n",
       "      <td>['game',  'custommovement',  'doublejump',  'd...</td>\n",
       "    </tr>\n",
       "    <tr>\n",
       "      <th>5</th>\n",
       "      <td>game</td>\n",
       "      <td>djump_old</td>\n",
       "      <td>blandrice</td>\n",
       "      <td>yes</td>\n",
       "      <td>yes</td>\n",
       "      <td></td>\n",
       "      <td>old doublejump by blandrice before registersyn...</td>\n",
       "      <td></td>\n",
       "      <td>https://github.com/blandrice/blandlibs/tree/ma...</td>\n",
       "      <td>['game',  'custommovement',  'doublejump',  'd...</td>\n",
       "    </tr>\n",
       "    <tr>\n",
       "      <th>6</th>\n",
       "      <td>game</td>\n",
       "      <td>djump_registersync</td>\n",
       "      <td>blandrice</td>\n",
       "      <td>yes</td>\n",
       "      <td>yes</td>\n",
       "      <td>yes</td>\n",
       "      <td>double-jump using registersync feature</td>\n",
       "      <td></td>\n",
       "      <td>https://github.com/blandrice/blandlibs/tree/ma...</td>\n",
       "      <td>['game',  'custommovement',  'doublejump',  'd...</td>\n",
       "    </tr>\n",
       "    <tr>\n",
       "      <th>7</th>\n",
       "      <td>game</td>\n",
       "      <td>ecs</td>\n",
       "      <td>blandrice</td>\n",
       "      <td>yes</td>\n",
       "      <td>yes</td>\n",
       "      <td></td>\n",
       "      <td>Entity Component System</td>\n",
       "      <td></td>\n",
       "      <td>https://github.com/blandrice/blandlibs/tree/ma...</td>\n",
       "      <td>['game',  'ECS',  'system']</td>\n",
       "    </tr>\n",
       "    <tr>\n",
       "      <th>10</th>\n",
       "      <td>gameutil</td>\n",
       "      <td>g</td>\n",
       "      <td>blandrice</td>\n",
       "      <td></td>\n",
       "      <td></td>\n",
       "      <td>yes</td>\n",
       "      <td>some global vars that other libs can reference...</td>\n",
       "      <td></td>\n",
       "      <td>https://github.com/blandrice/blandlibs/tree/ma...</td>\n",
       "      <td>['gameutil',  'global']</td>\n",
       "    </tr>\n",
       "    <tr>\n",
       "      <th>11</th>\n",
       "      <td>gameutil</td>\n",
       "      <td>gamestart</td>\n",
       "      <td>blandrice</td>\n",
       "      <td>yes</td>\n",
       "      <td>yes</td>\n",
       "      <td></td>\n",
       "      <td>Detect game start in a map with a countdown.</td>\n",
       "      <td></td>\n",
       "      <td>https://github.com/blandrice/blandlibs/tree/ma...</td>\n",
       "      <td>['gameutil',  'gamestart']</td>\n",
       "    </tr>\n",
       "    <tr>\n",
       "      <th>13</th>\n",
       "      <td>gameutil</td>\n",
       "      <td>plrutil</td>\n",
       "      <td>blandrice</td>\n",
       "      <td>yes</td>\n",
       "      <td>yes</td>\n",
       "      <td>yes</td>\n",
       "      <td>workaround to check how many players are spawn...</td>\n",
       "      <td></td>\n",
       "      <td>https://github.com/blandrice/blandlibs/tree/ma...</td>\n",
       "      <td>['gameutil',  'plrutil']</td>\n",
       "    </tr>\n",
       "    <tr>\n",
       "      <th>15</th>\n",
       "      <td>gameutil</td>\n",
       "      <td>wpninfo</td>\n",
       "      <td>blandrice</td>\n",
       "      <td>yes</td>\n",
       "      <td></td>\n",
       "      <td></td>\n",
       "      <td>adds additional CLASS's PRIMARY weapon info to...</td>\n",
       "      <td></td>\n",
       "      <td>https://github.com/blandrice/blandlibs/tree/ma...</td>\n",
       "      <td>['gameutil',  'weaponinfo']</td>\n",
       "    </tr>\n",
       "    <tr>\n",
       "      <th>16</th>\n",
       "      <td>network</td>\n",
       "      <td>plrbhvr</td>\n",
       "      <td>blandrice</td>\n",
       "      <td>yes</td>\n",
       "      <td>yes</td>\n",
       "      <td></td>\n",
       "      <td>disable server sync + behavior for custom move...</td>\n",
       "      <td></td>\n",
       "      <td>https://github.com/blandrice/blandlibs/tree/ma...</td>\n",
       "      <td>['network',  'plrbehavior']</td>\n",
       "    </tr>\n",
       "    <tr>\n",
       "      <th>17</th>\n",
       "      <td>network</td>\n",
       "      <td>syncobjs</td>\n",
       "      <td>blandrice</td>\n",
       "      <td>yes</td>\n",
       "      <td>yes</td>\n",
       "      <td></td>\n",
       "      <td>Custom Server object syncing.</td>\n",
       "      <td></td>\n",
       "      <td>https://github.com/blandrice/blandlibs/tree/ma...</td>\n",
       "      <td>['network',  'syncobjs']</td>\n",
       "    </tr>\n",
       "    <tr>\n",
       "      <th>20</th>\n",
       "      <td>overlay</td>\n",
       "      <td>gamescore</td>\n",
       "      <td>blandrice</td>\n",
       "      <td>yes</td>\n",
       "      <td></td>\n",
       "      <td></td>\n",
       "      <td>show points incrementing UI through krunkscript</td>\n",
       "      <td></td>\n",
       "      <td>https://github.com/blandrice/blandlibs/tree/ma...</td>\n",
       "      <td>['overlay',  'customgamescoreUI']</td>\n",
       "    </tr>\n",
       "    <tr>\n",
       "      <th>25</th>\n",
       "      <td>overlay</td>\n",
       "      <td>timer</td>\n",
       "      <td>blandrice</td>\n",
       "      <td>yes</td>\n",
       "      <td>yes</td>\n",
       "      <td></td>\n",
       "      <td>display a timer (total time given by server)</td>\n",
       "      <td></td>\n",
       "      <td>https://github.com/blandrice/blandlibs/tree/ma...</td>\n",
       "      <td>['overlay',  'timer']</td>\n",
       "    </tr>\n",
       "    <tr>\n",
       "      <th>27</th>\n",
       "      <td>physics</td>\n",
       "      <td>raybox</td>\n",
       "      <td>blandrice</td>\n",
       "      <td></td>\n",
       "      <td></td>\n",
       "      <td>yes</td>\n",
       "      <td>Ray-box intersections in Krunker.</td>\n",
       "      <td></td>\n",
       "      <td>https://github.com/blandrice/blandlibs/tree/ma...</td>\n",
       "      <td>['physics',  'collisions']</td>\n",
       "    </tr>\n",
       "    <tr>\n",
       "      <th>28</th>\n",
       "      <td>physics</td>\n",
       "      <td>rotbox</td>\n",
       "      <td>blandrice</td>\n",
       "      <td></td>\n",
       "      <td></td>\n",
       "      <td>yes</td>\n",
       "      <td>rotated bounding box collision</td>\n",
       "      <td></td>\n",
       "      <td>https://github.com/blandrice/blandlibs/tree/ma...</td>\n",
       "      <td>['physics',  'collisions']</td>\n",
       "    </tr>\n",
       "    <tr>\n",
       "      <th>29</th>\n",
       "      <td>scene</td>\n",
       "      <td>fade</td>\n",
       "      <td>blandrice</td>\n",
       "      <td>yes</td>\n",
       "      <td>yes</td>\n",
       "      <td></td>\n",
       "      <td>screen fade in/out using triggers https://stre...</td>\n",
       "      <td>https://discord.com/channels/48419204383349148...</td>\n",
       "      <td>https://github.com/blandrice/blandlibs/tree/ma...</td>\n",
       "      <td>['scene',  'fade']</td>\n",
       "    </tr>\n",
       "    <tr>\n",
       "      <th>31</th>\n",
       "      <td>util</td>\n",
       "      <td>dtypes</td>\n",
       "      <td>blandrice</td>\n",
       "      <td></td>\n",
       "      <td></td>\n",
       "      <td>yes</td>\n",
       "      <td>custom float data types--&gt; binary representati...</td>\n",
       "      <td></td>\n",
       "      <td>https://github.com/blandrice/blandlibs/tree/ma...</td>\n",
       "      <td>['util',  'dtypes']</td>\n",
       "    </tr>\n",
       "    <tr>\n",
       "      <th>34</th>\n",
       "      <td>util</td>\n",
       "      <td>listutil</td>\n",
       "      <td>blandrice</td>\n",
       "      <td></td>\n",
       "      <td></td>\n",
       "      <td>yes</td>\n",
       "      <td>Additional string utilities</td>\n",
       "      <td></td>\n",
       "      <td>https://github.com/blandrice/blandlibs/tree/ma...</td>\n",
       "      <td>['util',  'lists']</td>\n",
       "    </tr>\n",
       "    <tr>\n",
       "      <th>37</th>\n",
       "      <td>util</td>\n",
       "      <td>vec</td>\n",
       "      <td>blandrice</td>\n",
       "      <td></td>\n",
       "      <td></td>\n",
       "      <td>yes</td>\n",
       "      <td>blandrice's object-based vector math</td>\n",
       "      <td></td>\n",
       "      <td>https://github.com/blandrice/blandlibs/tree/ma...</td>\n",
       "      <td>['util',  'vectors']</td>\n",
       "    </tr>\n",
       "  </tbody>\n",
       "</table>\n",
       "</div>"
      ],
      "text/plain": [
       "    category         script_name     author client server other  \\\n",
       "0   database               ranks  blandrice    yes    yes         \n",
       "1   database        ranksmainmap  blandrice    yes    yes         \n",
       "4       game          djump_node  blandrice    yes    yes   yes   \n",
       "5       game           djump_old  blandrice    yes    yes         \n",
       "6       game  djump_registersync  blandrice    yes    yes   yes   \n",
       "7       game                 ecs  blandrice    yes    yes         \n",
       "10  gameutil                   g  blandrice                 yes   \n",
       "11  gameutil           gamestart  blandrice    yes    yes         \n",
       "13  gameutil             plrutil  blandrice    yes    yes   yes   \n",
       "15  gameutil             wpninfo  blandrice    yes                \n",
       "16   network             plrbhvr  blandrice    yes    yes         \n",
       "17   network            syncobjs  blandrice    yes    yes         \n",
       "20   overlay           gamescore  blandrice    yes                \n",
       "25   overlay               timer  blandrice    yes    yes         \n",
       "27   physics              raybox  blandrice                 yes   \n",
       "28   physics              rotbox  blandrice                 yes   \n",
       "29     scene                fade  blandrice    yes    yes         \n",
       "31      util              dtypes  blandrice                 yes   \n",
       "34      util            listutil  blandrice                 yes   \n",
       "37      util                 vec  blandrice                 yes   \n",
       "\n",
       "                                          description  \\\n",
       "0   Create a map in Krunker and copy the client & ...   \n",
       "1   This is a shareable script to display popular ...   \n",
       "4   Doublejump, but with using path nodes to colle...   \n",
       "5   old doublejump by blandrice before registersyn...   \n",
       "6              double-jump using registersync feature   \n",
       "7                             Entity Component System   \n",
       "10  some global vars that other libs can reference...   \n",
       "11       Detect game start in a map with a countdown.   \n",
       "13  workaround to check how many players are spawn...   \n",
       "15  adds additional CLASS's PRIMARY weapon info to...   \n",
       "16  disable server sync + behavior for custom move...   \n",
       "17                      Custom Server object syncing.   \n",
       "20    show points incrementing UI through krunkscript   \n",
       "25       display a timer (total time given by server)   \n",
       "27                  Ray-box intersections in Krunker.   \n",
       "28                     rotated bounding box collision   \n",
       "29  screen fade in/out using triggers https://stre...   \n",
       "31  custom float data types--> binary representati...   \n",
       "34                        Additional string utilities   \n",
       "37               blandrice's object-based vector math   \n",
       "\n",
       "                                                 link  \\\n",
       "0       https://github.com/blandrice/krunkerClansPlus   \n",
       "1       https://github.com/blandrice/krunkerClansPlus   \n",
       "4                                                       \n",
       "5                                                       \n",
       "6                                                       \n",
       "7                                                       \n",
       "10                                                      \n",
       "11                                                      \n",
       "13                                                      \n",
       "15                                                      \n",
       "16                                                      \n",
       "17                                                      \n",
       "20                                                      \n",
       "25                                                      \n",
       "27                                                      \n",
       "28                                                      \n",
       "29  https://discord.com/channels/48419204383349148...   \n",
       "31                                                      \n",
       "34                                                      \n",
       "37                                                      \n",
       "\n",
       "                                                 path  \\\n",
       "0   https://github.com/blandrice/blandlibs/tree/ma...   \n",
       "1   https://github.com/blandrice/blandlibs/tree/ma...   \n",
       "4   https://github.com/blandrice/blandlibs/tree/ma...   \n",
       "5   https://github.com/blandrice/blandlibs/tree/ma...   \n",
       "6   https://github.com/blandrice/blandlibs/tree/ma...   \n",
       "7   https://github.com/blandrice/blandlibs/tree/ma...   \n",
       "10  https://github.com/blandrice/blandlibs/tree/ma...   \n",
       "11  https://github.com/blandrice/blandlibs/tree/ma...   \n",
       "13  https://github.com/blandrice/blandlibs/tree/ma...   \n",
       "15  https://github.com/blandrice/blandlibs/tree/ma...   \n",
       "16  https://github.com/blandrice/blandlibs/tree/ma...   \n",
       "17  https://github.com/blandrice/blandlibs/tree/ma...   \n",
       "20  https://github.com/blandrice/blandlibs/tree/ma...   \n",
       "25  https://github.com/blandrice/blandlibs/tree/ma...   \n",
       "27  https://github.com/blandrice/blandlibs/tree/ma...   \n",
       "28  https://github.com/blandrice/blandlibs/tree/ma...   \n",
       "29  https://github.com/blandrice/blandlibs/tree/ma...   \n",
       "31  https://github.com/blandrice/blandlibs/tree/ma...   \n",
       "34  https://github.com/blandrice/blandlibs/tree/ma...   \n",
       "37  https://github.com/blandrice/blandlibs/tree/ma...   \n",
       "\n",
       "                                                 tags  \n",
       "0                          ['database',  'clansrank']  \n",
       "1                          ['database',  'clansrank']  \n",
       "4   ['game',  'custommovement',  'doublejump',  'd...  \n",
       "5   ['game',  'custommovement',  'doublejump',  'd...  \n",
       "6   ['game',  'custommovement',  'doublejump',  'd...  \n",
       "7                         ['game',  'ECS',  'system']  \n",
       "10                            ['gameutil',  'global']  \n",
       "11                         ['gameutil',  'gamestart']  \n",
       "13                           ['gameutil',  'plrutil']  \n",
       "15                        ['gameutil',  'weaponinfo']  \n",
       "16                        ['network',  'plrbehavior']  \n",
       "17                           ['network',  'syncobjs']  \n",
       "20                  ['overlay',  'customgamescoreUI']  \n",
       "25                              ['overlay',  'timer']  \n",
       "27                         ['physics',  'collisions']  \n",
       "28                         ['physics',  'collisions']  \n",
       "29                                 ['scene',  'fade']  \n",
       "31                                ['util',  'dtypes']  \n",
       "34                                 ['util',  'lists']  \n",
       "37                               ['util',  'vectors']  "
      ]
     },
     "execution_count": 249,
     "metadata": {},
     "output_type": "execute_result"
    }
   ],
   "source": [
    "simple_results[simple_results['author']==\"blandrice\"]"
   ]
  },
  {
   "cell_type": "code",
   "execution_count": null,
   "metadata": {},
   "outputs": [],
   "source": []
  }
 ],
 "metadata": {
  "kernelspec": {
   "display_name": "python38",
   "language": "python",
   "name": "python3"
  },
  "language_info": {
   "codemirror_mode": {
    "name": "ipython",
    "version": 3
   },
   "file_extension": ".py",
   "mimetype": "text/x-python",
   "name": "python",
   "nbconvert_exporter": "python",
   "pygments_lexer": "ipython3",
   "version": "3.8.10"
  },
  "orig_nbformat": 4
 },
 "nbformat": 4,
 "nbformat_minor": 2
}
